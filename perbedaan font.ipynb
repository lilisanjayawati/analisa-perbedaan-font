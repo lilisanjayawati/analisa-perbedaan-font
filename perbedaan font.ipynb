{
 "cells": [
  {
   "cell_type": "markdown",
   "metadata": {},
   "source": [
    "# Apakah Font Lama dan Baru Memberi Perbedaan Signifikan?"
   ]
  },
  {
   "cell_type": "markdown",
   "metadata": {},
   "source": [
    "- Pendahuluan\n",
    "- Tahap 1. Pra-pemrosesan Data\n",
    "- Tahap 2. Analisa Data\n",
    "- Tahap 3. Mempelajari Event Funnel\n",
    "    - Membuat Pivot Table\n",
    "    - Rasio Pengguna\n",
    "- Tahap 4. Mempelajari Hasil Eksperimen\n",
    "    - Menghitung Jumlah Pengguna Setiap Event\n",
    "    - Event Terpopuler\n",
    "    - Melakukan A/A Testing\n",
    "    - Melakukan A/B Testing\n",
    "    - Melakukan A/A/B Testing\n",
    "    - Menguji Dengan Tingkat Alpha Berbeda\n",
    "- Tahap 5. Kesimpulan"
   ]
  },
  {
   "cell_type": "markdown",
   "metadata": {},
   "source": [
    "# Pendahuluan\n",
    "Bekerja di sebuah start-up yang bergerak dalam bidang penjualan produk makanan, sebagai seorang analis, kita perlu menganalisa perilaku pengguna aplikasi dari waktu ke waktu. \n",
    "\n",
    "Para web designer ingin mengubah seluruh font menjadi font baru, namun para manajer khawatir bahwa font baru akan membuat pengguna merasa kurang nyaman dengan tampilannya. Maka dari itu mereka memutuskan untuk mengambil keputusan berdasarkan A/A/B Testing.\n",
    "\n",
    "Para pengguna dibagi menjadi 2 kelompok kontrol aplikasi dengan font lama, dan  1 kelompok uji aplikasi dengan font baru. 2 kelompok kontrol ini perlu kita uji terlebih dahulu apakah proporsinya setara dan kemudian baru kita test dengan kelommpok uji.\n",
    "\n",
    "Untuk melakukan testing, kita akan menganalisa corong peristiwa dan penggunanya lebih dulu."
   ]
  },
  {
   "cell_type": "markdown",
   "metadata": {},
   "source": [
    "## Tahap 1. Pra-pemrosesan Data\n",
    "Sebelum memulai analisa apapun, kita perlu memuat library data yang dibutuhkan.\n",
    "\n",
    "### Memuat Library"
   ]
  },
  {
   "cell_type": "code",
   "execution_count": 1,
   "metadata": {},
   "outputs": [],
   "source": [
    "# memuat library yang dibutuhkan\n",
    "import pandas as pd\n",
    "import numpy as np\n",
    "from scipy import stats\n",
    "import math\n",
    "import datetime\n",
    "import seaborn as sns\n",
    "import matplotlib.pyplot as plt\n",
    "import warnings\n",
    "warnings.filterwarnings('ignore')"
   ]
  },
  {
   "cell_type": "markdown",
   "metadata": {},
   "source": [
    "### Memuat Data"
   ]
  },
  {
   "cell_type": "code",
   "execution_count": 2,
   "metadata": {},
   "outputs": [],
   "source": [
    "# memuat data\n",
    "df = pd.read_csv('/datasets/logs_exp_us.csv', sep='\\t')"
   ]
  },
  {
   "cell_type": "markdown",
   "metadata": {},
   "source": [
    "Dataset ini memiliki kolom sebagai berikut :\n",
    "- `EventName` — nama event\n",
    "- `DeviceIDHash` - id unik pengguna\n",
    "- `EventTimestamp` — waktu event\n",
    "- `ExpId` — jumlah eksperimen : 246 dan 247 adalah grup kontrol, 218 adalah grup uji"
   ]
  },
  {
   "cell_type": "code",
   "execution_count": 3,
   "metadata": {
    "scrolled": false
   },
   "outputs": [
    {
     "data": {
      "text/html": [
       "<div>\n",
       "<style scoped>\n",
       "    .dataframe tbody tr th:only-of-type {\n",
       "        vertical-align: middle;\n",
       "    }\n",
       "\n",
       "    .dataframe tbody tr th {\n",
       "        vertical-align: top;\n",
       "    }\n",
       "\n",
       "    .dataframe thead th {\n",
       "        text-align: right;\n",
       "    }\n",
       "</style>\n",
       "<table border=\"1\" class=\"dataframe\">\n",
       "  <thead>\n",
       "    <tr style=\"text-align: right;\">\n",
       "      <th></th>\n",
       "      <th>EventName</th>\n",
       "      <th>DeviceIDHash</th>\n",
       "      <th>EventTimestamp</th>\n",
       "      <th>ExpId</th>\n",
       "    </tr>\n",
       "  </thead>\n",
       "  <tbody>\n",
       "    <tr>\n",
       "      <th>0</th>\n",
       "      <td>MainScreenAppear</td>\n",
       "      <td>4575588528974610257</td>\n",
       "      <td>1564029816</td>\n",
       "      <td>246</td>\n",
       "    </tr>\n",
       "    <tr>\n",
       "      <th>1</th>\n",
       "      <td>MainScreenAppear</td>\n",
       "      <td>7416695313311560658</td>\n",
       "      <td>1564053102</td>\n",
       "      <td>246</td>\n",
       "    </tr>\n",
       "    <tr>\n",
       "      <th>2</th>\n",
       "      <td>PaymentScreenSuccessful</td>\n",
       "      <td>3518123091307005509</td>\n",
       "      <td>1564054127</td>\n",
       "      <td>248</td>\n",
       "    </tr>\n",
       "    <tr>\n",
       "      <th>3</th>\n",
       "      <td>CartScreenAppear</td>\n",
       "      <td>3518123091307005509</td>\n",
       "      <td>1564054127</td>\n",
       "      <td>248</td>\n",
       "    </tr>\n",
       "    <tr>\n",
       "      <th>4</th>\n",
       "      <td>PaymentScreenSuccessful</td>\n",
       "      <td>6217807653094995999</td>\n",
       "      <td>1564055322</td>\n",
       "      <td>248</td>\n",
       "    </tr>\n",
       "    <tr>\n",
       "      <th>...</th>\n",
       "      <td>...</td>\n",
       "      <td>...</td>\n",
       "      <td>...</td>\n",
       "      <td>...</td>\n",
       "    </tr>\n",
       "    <tr>\n",
       "      <th>244121</th>\n",
       "      <td>MainScreenAppear</td>\n",
       "      <td>4599628364049201812</td>\n",
       "      <td>1565212345</td>\n",
       "      <td>247</td>\n",
       "    </tr>\n",
       "    <tr>\n",
       "      <th>244122</th>\n",
       "      <td>MainScreenAppear</td>\n",
       "      <td>5849806612437486590</td>\n",
       "      <td>1565212439</td>\n",
       "      <td>246</td>\n",
       "    </tr>\n",
       "    <tr>\n",
       "      <th>244123</th>\n",
       "      <td>MainScreenAppear</td>\n",
       "      <td>5746969938801999050</td>\n",
       "      <td>1565212483</td>\n",
       "      <td>246</td>\n",
       "    </tr>\n",
       "    <tr>\n",
       "      <th>244124</th>\n",
       "      <td>MainScreenAppear</td>\n",
       "      <td>5746969938801999050</td>\n",
       "      <td>1565212498</td>\n",
       "      <td>246</td>\n",
       "    </tr>\n",
       "    <tr>\n",
       "      <th>244125</th>\n",
       "      <td>OffersScreenAppear</td>\n",
       "      <td>5746969938801999050</td>\n",
       "      <td>1565212517</td>\n",
       "      <td>246</td>\n",
       "    </tr>\n",
       "  </tbody>\n",
       "</table>\n",
       "<p>244126 rows × 4 columns</p>\n",
       "</div>"
      ],
      "text/plain": [
       "                      EventName         DeviceIDHash  EventTimestamp  ExpId\n",
       "0              MainScreenAppear  4575588528974610257      1564029816    246\n",
       "1              MainScreenAppear  7416695313311560658      1564053102    246\n",
       "2       PaymentScreenSuccessful  3518123091307005509      1564054127    248\n",
       "3              CartScreenAppear  3518123091307005509      1564054127    248\n",
       "4       PaymentScreenSuccessful  6217807653094995999      1564055322    248\n",
       "...                         ...                  ...             ...    ...\n",
       "244121         MainScreenAppear  4599628364049201812      1565212345    247\n",
       "244122         MainScreenAppear  5849806612437486590      1565212439    246\n",
       "244123         MainScreenAppear  5746969938801999050      1565212483    246\n",
       "244124         MainScreenAppear  5746969938801999050      1565212498    246\n",
       "244125       OffersScreenAppear  5746969938801999050      1565212517    246\n",
       "\n",
       "[244126 rows x 4 columns]"
      ]
     },
     "execution_count": 3,
     "metadata": {},
     "output_type": "execute_result"
    }
   ],
   "source": [
    "# menampilkan data\n",
    "df"
   ]
  },
  {
   "cell_type": "code",
   "execution_count": 4,
   "metadata": {},
   "outputs": [
    {
     "name": "stdout",
     "output_type": "stream",
     "text": [
      "<class 'pandas.core.frame.DataFrame'>\n",
      "RangeIndex: 244126 entries, 0 to 244125\n",
      "Data columns (total 4 columns):\n",
      " #   Column          Non-Null Count   Dtype \n",
      "---  ------          --------------   ----- \n",
      " 0   EventName       244126 non-null  object\n",
      " 1   DeviceIDHash    244126 non-null  int64 \n",
      " 2   EventTimestamp  244126 non-null  int64 \n",
      " 3   ExpId           244126 non-null  int64 \n",
      "dtypes: int64(3), object(1)\n",
      "memory usage: 7.5+ MB\n"
     ]
    }
   ],
   "source": [
    "# menampilkan informasi umum\n",
    "df.info()"
   ]
  },
  {
   "cell_type": "markdown",
   "metadata": {},
   "source": [
    "### Mengubah Nama Kolom\n",
    "Agar lebih mudah dan nyaman dibaca, kita akan mengubah nama kolom menjadi lebih sederhana dan rapi."
   ]
  },
  {
   "cell_type": "code",
   "execution_count": 5,
   "metadata": {},
   "outputs": [],
   "source": [
    "# mengubah nama kolom\n",
    "df = df.rename(columns={\n",
    "    'EventName' : 'event',\n",
    "    'DeviceIDHash' : 'user_id',\n",
    "    'EventTimestamp' : 'event_ts',\n",
    "    'ExpId' : 'exp_number'\n",
    "})"
   ]
  },
  {
   "cell_type": "markdown",
   "metadata": {},
   "source": [
    "### Mengubah Tipe Data\n",
    "Ada beberapa kolom yang memiliki tipe data tidak sesuai dengan valuenya."
   ]
  },
  {
   "cell_type": "code",
   "execution_count": 6,
   "metadata": {},
   "outputs": [],
   "source": [
    "# mengubah tipe data pada kolom\n",
    "df['event_new_ts'] = pd.to_datetime(df['event_ts'], unit='s')"
   ]
  },
  {
   "cell_type": "code",
   "execution_count": 7,
   "metadata": {},
   "outputs": [],
   "source": [
    "# membuat kolom baru untuk tanggal\n",
    "df['event_date'] = pd.to_datetime(df['event_new_ts'].dt.date)"
   ]
  },
  {
   "cell_type": "code",
   "execution_count": 8,
   "metadata": {},
   "outputs": [
    {
     "data": {
      "text/plain": [
       "MainScreenAppear           119205\n",
       "OffersScreenAppear          46825\n",
       "CartScreenAppear            42731\n",
       "PaymentScreenSuccessful     34313\n",
       "Tutorial                     1052\n",
       "Name: event, dtype: int64"
      ]
     },
     "execution_count": 8,
     "metadata": {},
     "output_type": "execute_result"
    }
   ],
   "source": [
    "# mengecek semua nama pada kolom event name\n",
    "df['event'].value_counts()"
   ]
  },
  {
   "cell_type": "code",
   "execution_count": 9,
   "metadata": {},
   "outputs": [],
   "source": [
    "# mengubah penulisan pada value kolom event name\n",
    "df['event'] = df['event'].replace({'MainScreenAppear' : 'Main Screen Appear',\n",
    "                                            'OffersScreenAppear' : 'Offers Screen Appear',\n",
    "                                            'CartScreenAppear' : 'Cart Screen Appear',\n",
    "                                            'PaymentScreenSuccessful' : 'Payment Screen Successful'})"
   ]
  },
  {
   "cell_type": "code",
   "execution_count": 10,
   "metadata": {},
   "outputs": [
    {
     "data": {
      "text/html": [
       "<div>\n",
       "<style scoped>\n",
       "    .dataframe tbody tr th:only-of-type {\n",
       "        vertical-align: middle;\n",
       "    }\n",
       "\n",
       "    .dataframe tbody tr th {\n",
       "        vertical-align: top;\n",
       "    }\n",
       "\n",
       "    .dataframe thead th {\n",
       "        text-align: right;\n",
       "    }\n",
       "</style>\n",
       "<table border=\"1\" class=\"dataframe\">\n",
       "  <thead>\n",
       "    <tr style=\"text-align: right;\">\n",
       "      <th></th>\n",
       "      <th>event</th>\n",
       "      <th>user_id</th>\n",
       "      <th>event_ts</th>\n",
       "      <th>exp_number</th>\n",
       "      <th>event_new_ts</th>\n",
       "      <th>event_date</th>\n",
       "    </tr>\n",
       "  </thead>\n",
       "  <tbody>\n",
       "    <tr>\n",
       "      <th>0</th>\n",
       "      <td>Main Screen Appear</td>\n",
       "      <td>4575588528974610257</td>\n",
       "      <td>1564029816</td>\n",
       "      <td>246</td>\n",
       "      <td>2019-07-25 04:43:36</td>\n",
       "      <td>2019-07-25</td>\n",
       "    </tr>\n",
       "    <tr>\n",
       "      <th>1</th>\n",
       "      <td>Main Screen Appear</td>\n",
       "      <td>7416695313311560658</td>\n",
       "      <td>1564053102</td>\n",
       "      <td>246</td>\n",
       "      <td>2019-07-25 11:11:42</td>\n",
       "      <td>2019-07-25</td>\n",
       "    </tr>\n",
       "    <tr>\n",
       "      <th>2</th>\n",
       "      <td>Payment Screen Successful</td>\n",
       "      <td>3518123091307005509</td>\n",
       "      <td>1564054127</td>\n",
       "      <td>248</td>\n",
       "      <td>2019-07-25 11:28:47</td>\n",
       "      <td>2019-07-25</td>\n",
       "    </tr>\n",
       "    <tr>\n",
       "      <th>3</th>\n",
       "      <td>Cart Screen Appear</td>\n",
       "      <td>3518123091307005509</td>\n",
       "      <td>1564054127</td>\n",
       "      <td>248</td>\n",
       "      <td>2019-07-25 11:28:47</td>\n",
       "      <td>2019-07-25</td>\n",
       "    </tr>\n",
       "    <tr>\n",
       "      <th>4</th>\n",
       "      <td>Payment Screen Successful</td>\n",
       "      <td>6217807653094995999</td>\n",
       "      <td>1564055322</td>\n",
       "      <td>248</td>\n",
       "      <td>2019-07-25 11:48:42</td>\n",
       "      <td>2019-07-25</td>\n",
       "    </tr>\n",
       "    <tr>\n",
       "      <th>...</th>\n",
       "      <td>...</td>\n",
       "      <td>...</td>\n",
       "      <td>...</td>\n",
       "      <td>...</td>\n",
       "      <td>...</td>\n",
       "      <td>...</td>\n",
       "    </tr>\n",
       "    <tr>\n",
       "      <th>244121</th>\n",
       "      <td>Main Screen Appear</td>\n",
       "      <td>4599628364049201812</td>\n",
       "      <td>1565212345</td>\n",
       "      <td>247</td>\n",
       "      <td>2019-08-07 21:12:25</td>\n",
       "      <td>2019-08-07</td>\n",
       "    </tr>\n",
       "    <tr>\n",
       "      <th>244122</th>\n",
       "      <td>Main Screen Appear</td>\n",
       "      <td>5849806612437486590</td>\n",
       "      <td>1565212439</td>\n",
       "      <td>246</td>\n",
       "      <td>2019-08-07 21:13:59</td>\n",
       "      <td>2019-08-07</td>\n",
       "    </tr>\n",
       "    <tr>\n",
       "      <th>244123</th>\n",
       "      <td>Main Screen Appear</td>\n",
       "      <td>5746969938801999050</td>\n",
       "      <td>1565212483</td>\n",
       "      <td>246</td>\n",
       "      <td>2019-08-07 21:14:43</td>\n",
       "      <td>2019-08-07</td>\n",
       "    </tr>\n",
       "    <tr>\n",
       "      <th>244124</th>\n",
       "      <td>Main Screen Appear</td>\n",
       "      <td>5746969938801999050</td>\n",
       "      <td>1565212498</td>\n",
       "      <td>246</td>\n",
       "      <td>2019-08-07 21:14:58</td>\n",
       "      <td>2019-08-07</td>\n",
       "    </tr>\n",
       "    <tr>\n",
       "      <th>244125</th>\n",
       "      <td>Offers Screen Appear</td>\n",
       "      <td>5746969938801999050</td>\n",
       "      <td>1565212517</td>\n",
       "      <td>246</td>\n",
       "      <td>2019-08-07 21:15:17</td>\n",
       "      <td>2019-08-07</td>\n",
       "    </tr>\n",
       "  </tbody>\n",
       "</table>\n",
       "<p>244126 rows × 6 columns</p>\n",
       "</div>"
      ],
      "text/plain": [
       "                            event              user_id    event_ts  \\\n",
       "0              Main Screen Appear  4575588528974610257  1564029816   \n",
       "1              Main Screen Appear  7416695313311560658  1564053102   \n",
       "2       Payment Screen Successful  3518123091307005509  1564054127   \n",
       "3              Cart Screen Appear  3518123091307005509  1564054127   \n",
       "4       Payment Screen Successful  6217807653094995999  1564055322   \n",
       "...                           ...                  ...         ...   \n",
       "244121         Main Screen Appear  4599628364049201812  1565212345   \n",
       "244122         Main Screen Appear  5849806612437486590  1565212439   \n",
       "244123         Main Screen Appear  5746969938801999050  1565212483   \n",
       "244124         Main Screen Appear  5746969938801999050  1565212498   \n",
       "244125       Offers Screen Appear  5746969938801999050  1565212517   \n",
       "\n",
       "        exp_number        event_new_ts event_date  \n",
       "0              246 2019-07-25 04:43:36 2019-07-25  \n",
       "1              246 2019-07-25 11:11:42 2019-07-25  \n",
       "2              248 2019-07-25 11:28:47 2019-07-25  \n",
       "3              248 2019-07-25 11:28:47 2019-07-25  \n",
       "4              248 2019-07-25 11:48:42 2019-07-25  \n",
       "...            ...                 ...        ...  \n",
       "244121         247 2019-08-07 21:12:25 2019-08-07  \n",
       "244122         246 2019-08-07 21:13:59 2019-08-07  \n",
       "244123         246 2019-08-07 21:14:43 2019-08-07  \n",
       "244124         246 2019-08-07 21:14:58 2019-08-07  \n",
       "244125         246 2019-08-07 21:15:17 2019-08-07  \n",
       "\n",
       "[244126 rows x 6 columns]"
      ]
     },
     "execution_count": 10,
     "metadata": {},
     "output_type": "execute_result"
    }
   ],
   "source": [
    "# menampilkan data terbaru\n",
    "df"
   ]
  },
  {
   "cell_type": "markdown",
   "metadata": {},
   "source": [
    "### Mengecek Nilai Duplikat dan Missing Value"
   ]
  },
  {
   "cell_type": "code",
   "execution_count": 11,
   "metadata": {
    "scrolled": true
   },
   "outputs": [
    {
     "data": {
      "text/plain": [
       "413"
      ]
     },
     "execution_count": 11,
     "metadata": {},
     "output_type": "execute_result"
    }
   ],
   "source": [
    "# mengecek nilai duplikat\n",
    "df.duplicated().sum()"
   ]
  },
  {
   "cell_type": "code",
   "execution_count": 12,
   "metadata": {},
   "outputs": [],
   "source": [
    "# menghapus duplikat\n",
    "df = df.drop_duplicates()"
   ]
  },
  {
   "cell_type": "code",
   "execution_count": 13,
   "metadata": {},
   "outputs": [
    {
     "data": {
      "text/plain": [
       "0"
      ]
     },
     "execution_count": 13,
     "metadata": {},
     "output_type": "execute_result"
    }
   ],
   "source": [
    "# mengecek nilai duplikat\n",
    "df.duplicated().sum()"
   ]
  },
  {
   "cell_type": "code",
   "execution_count": 14,
   "metadata": {
    "scrolled": true
   },
   "outputs": [
    {
     "data": {
      "text/plain": [
       "event           0\n",
       "user_id         0\n",
       "event_ts        0\n",
       "exp_number      0\n",
       "event_new_ts    0\n",
       "event_date      0\n",
       "dtype: int64"
      ]
     },
     "execution_count": 14,
     "metadata": {},
     "output_type": "execute_result"
    }
   ],
   "source": [
    "# mengecek missing value\n",
    "df.isnull().sum()"
   ]
  },
  {
   "cell_type": "markdown",
   "metadata": {},
   "source": [
    "## Tahap 2. Analisis Data\n",
    "Kita akan melihat berapa banyak event yang ada dalam log\n",
    "\n",
    "### Jumlah Event"
   ]
  },
  {
   "cell_type": "code",
   "execution_count": 15,
   "metadata": {},
   "outputs": [
    {
     "data": {
      "text/plain": [
       "Main Screen Appear           119101\n",
       "Offers Screen Appear          46808\n",
       "Cart Screen Appear            42668\n",
       "Payment Screen Successful     34118\n",
       "Tutorial                       1018\n",
       "Name: event, dtype: int64"
      ]
     },
     "execution_count": 15,
     "metadata": {},
     "output_type": "execute_result"
    }
   ],
   "source": [
    "# jumlah masing-masing event dalam log\n",
    "df['event'].value_counts()"
   ]
  },
  {
   "cell_type": "markdown",
   "metadata": {},
   "source": [
    "Ada 5 macam event, jumlah terbanyak event adalah main screen. Sedangkan jumlah event tutorial memiliki jumlah yang sangat sedikit jika dibandingkan dengan event lainnya.\n",
    "Berikutnya kita akan melihat jumlah pengguna yang ada pada setiap event.\n",
    "\n",
    "### Jumlah Pengguna Setiap Event"
   ]
  },
  {
   "cell_type": "code",
   "execution_count": 16,
   "metadata": {},
   "outputs": [
    {
     "data": {
      "text/html": [
       "<div>\n",
       "<style scoped>\n",
       "    .dataframe tbody tr th:only-of-type {\n",
       "        vertical-align: middle;\n",
       "    }\n",
       "\n",
       "    .dataframe tbody tr th {\n",
       "        vertical-align: top;\n",
       "    }\n",
       "\n",
       "    .dataframe thead th {\n",
       "        text-align: right;\n",
       "    }\n",
       "</style>\n",
       "<table border=\"1\" class=\"dataframe\">\n",
       "  <thead>\n",
       "    <tr style=\"text-align: right;\">\n",
       "      <th></th>\n",
       "      <th>user_id</th>\n",
       "    </tr>\n",
       "    <tr>\n",
       "      <th>event</th>\n",
       "      <th></th>\n",
       "    </tr>\n",
       "  </thead>\n",
       "  <tbody>\n",
       "    <tr>\n",
       "      <th>Cart Screen Appear</th>\n",
       "      <td>3749</td>\n",
       "    </tr>\n",
       "    <tr>\n",
       "      <th>Main Screen Appear</th>\n",
       "      <td>7439</td>\n",
       "    </tr>\n",
       "    <tr>\n",
       "      <th>Offers Screen Appear</th>\n",
       "      <td>4613</td>\n",
       "    </tr>\n",
       "    <tr>\n",
       "      <th>Payment Screen Successful</th>\n",
       "      <td>3547</td>\n",
       "    </tr>\n",
       "    <tr>\n",
       "      <th>Tutorial</th>\n",
       "      <td>847</td>\n",
       "    </tr>\n",
       "  </tbody>\n",
       "</table>\n",
       "</div>"
      ],
      "text/plain": [
       "                           user_id\n",
       "event                             \n",
       "Cart Screen Appear            3749\n",
       "Main Screen Appear            7439\n",
       "Offers Screen Appear          4613\n",
       "Payment Screen Successful     3547\n",
       "Tutorial                       847"
      ]
     },
     "execution_count": 16,
     "metadata": {},
     "output_type": "execute_result"
    }
   ],
   "source": [
    "# jumlah pengguna pada setiap log\n",
    "df.groupby('event').agg({'user_id':'nunique'})"
   ]
  },
  {
   "cell_type": "markdown",
   "metadata": {},
   "source": [
    "### Memfilter Data Lama dan Baru\n",
    "Kita perlu menggunakan data akurat untuk menjalankan test ini. Terdapat kemungkinan bahwa ada outlier atau data yang dianggap sebagai \"data lama\" yang dapat membuat hasil test menjadi keliru."
   ]
  },
  {
   "cell_type": "code",
   "execution_count": 17,
   "metadata": {},
   "outputs": [
    {
     "name": "stdout",
     "output_type": "stream",
     "text": [
      "2019-07-25 00:00:00\n",
      "2019-08-07 00:00:00\n"
     ]
    }
   ],
   "source": [
    "# melihat tanggal minimal dan maksimum event\n",
    "print(df['event_date'].min())\n",
    "print(df['event_date'].max())"
   ]
  },
  {
   "cell_type": "code",
   "execution_count": 18,
   "metadata": {},
   "outputs": [
    {
     "data": {
      "text/plain": [
       "<AxesSubplot:>"
      ]
     },
     "execution_count": 18,
     "metadata": {},
     "output_type": "execute_result"
    },
    {
     "data": {
      "image/png": "[encoded data removed]",
      "text/plain": [
       "<Figure size 1080x360 with 1 Axes>"
      ]
     },
     "metadata": {
      "needs_background": "light"
     },
     "output_type": "display_data"
    }
   ],
   "source": [
    "# menampilkan histogram berdasarkan tanggal\n",
    "df['event_new_ts'].hist(figsize=(15,5))"
   ]
  },
  {
   "cell_type": "code",
   "execution_count": 19,
   "metadata": {},
   "outputs": [
    {
     "data": {
      "text/html": [
       "<div>\n",
       "<style scoped>\n",
       "    .dataframe tbody tr th:only-of-type {\n",
       "        vertical-align: middle;\n",
       "    }\n",
       "\n",
       "    .dataframe tbody tr th {\n",
       "        vertical-align: top;\n",
       "    }\n",
       "\n",
       "    .dataframe thead th {\n",
       "        text-align: right;\n",
       "    }\n",
       "</style>\n",
       "<table border=\"1\" class=\"dataframe\">\n",
       "  <thead>\n",
       "    <tr style=\"text-align: right;\">\n",
       "      <th></th>\n",
       "      <th>event</th>\n",
       "      <th>user_id</th>\n",
       "      <th>event_ts</th>\n",
       "      <th>exp_number</th>\n",
       "      <th>event_new_ts</th>\n",
       "      <th>event_date</th>\n",
       "    </tr>\n",
       "  </thead>\n",
       "  <tbody>\n",
       "    <tr>\n",
       "      <th>0</th>\n",
       "      <td>Main Screen Appear</td>\n",
       "      <td>4575588528974610257</td>\n",
       "      <td>1564029816</td>\n",
       "      <td>246</td>\n",
       "      <td>2019-07-25 04:43:36</td>\n",
       "      <td>2019-07-25</td>\n",
       "    </tr>\n",
       "    <tr>\n",
       "      <th>1</th>\n",
       "      <td>Main Screen Appear</td>\n",
       "      <td>7416695313311560658</td>\n",
       "      <td>1564053102</td>\n",
       "      <td>246</td>\n",
       "      <td>2019-07-25 11:11:42</td>\n",
       "      <td>2019-07-25</td>\n",
       "    </tr>\n",
       "    <tr>\n",
       "      <th>2</th>\n",
       "      <td>Payment Screen Successful</td>\n",
       "      <td>3518123091307005509</td>\n",
       "      <td>1564054127</td>\n",
       "      <td>248</td>\n",
       "      <td>2019-07-25 11:28:47</td>\n",
       "      <td>2019-07-25</td>\n",
       "    </tr>\n",
       "    <tr>\n",
       "      <th>3</th>\n",
       "      <td>Cart Screen Appear</td>\n",
       "      <td>3518123091307005509</td>\n",
       "      <td>1564054127</td>\n",
       "      <td>248</td>\n",
       "      <td>2019-07-25 11:28:47</td>\n",
       "      <td>2019-07-25</td>\n",
       "    </tr>\n",
       "    <tr>\n",
       "      <th>4</th>\n",
       "      <td>Payment Screen Successful</td>\n",
       "      <td>6217807653094995999</td>\n",
       "      <td>1564055322</td>\n",
       "      <td>248</td>\n",
       "      <td>2019-07-25 11:48:42</td>\n",
       "      <td>2019-07-25</td>\n",
       "    </tr>\n",
       "    <tr>\n",
       "      <th>...</th>\n",
       "      <td>...</td>\n",
       "      <td>...</td>\n",
       "      <td>...</td>\n",
       "      <td>...</td>\n",
       "      <td>...</td>\n",
       "      <td>...</td>\n",
       "    </tr>\n",
       "    <tr>\n",
       "      <th>2823</th>\n",
       "      <td>Offers Screen Appear</td>\n",
       "      <td>2413191300976302222</td>\n",
       "      <td>1564617295</td>\n",
       "      <td>247</td>\n",
       "      <td>2019-07-31 23:54:55</td>\n",
       "      <td>2019-07-31</td>\n",
       "    </tr>\n",
       "    <tr>\n",
       "      <th>2824</th>\n",
       "      <td>Main Screen Appear</td>\n",
       "      <td>5505110279185484837</td>\n",
       "      <td>1564617450</td>\n",
       "      <td>247</td>\n",
       "      <td>2019-07-31 23:57:30</td>\n",
       "      <td>2019-07-31</td>\n",
       "    </tr>\n",
       "    <tr>\n",
       "      <th>2825</th>\n",
       "      <td>Main Screen Appear</td>\n",
       "      <td>5505110279185484837</td>\n",
       "      <td>1564617462</td>\n",
       "      <td>247</td>\n",
       "      <td>2019-07-31 23:57:42</td>\n",
       "      <td>2019-07-31</td>\n",
       "    </tr>\n",
       "    <tr>\n",
       "      <th>2826</th>\n",
       "      <td>Main Screen Appear</td>\n",
       "      <td>5505110279185484837</td>\n",
       "      <td>1564617472</td>\n",
       "      <td>247</td>\n",
       "      <td>2019-07-31 23:57:52</td>\n",
       "      <td>2019-07-31</td>\n",
       "    </tr>\n",
       "    <tr>\n",
       "      <th>2827</th>\n",
       "      <td>Main Screen Appear</td>\n",
       "      <td>2413191300976302222</td>\n",
       "      <td>1564617599</td>\n",
       "      <td>247</td>\n",
       "      <td>2019-07-31 23:59:59</td>\n",
       "      <td>2019-07-31</td>\n",
       "    </tr>\n",
       "  </tbody>\n",
       "</table>\n",
       "<p>2826 rows × 6 columns</p>\n",
       "</div>"
      ],
      "text/plain": [
       "                          event              user_id    event_ts  exp_number  \\\n",
       "0            Main Screen Appear  4575588528974610257  1564029816         246   \n",
       "1            Main Screen Appear  7416695313311560658  1564053102         246   \n",
       "2     Payment Screen Successful  3518123091307005509  1564054127         248   \n",
       "3            Cart Screen Appear  3518123091307005509  1564054127         248   \n",
       "4     Payment Screen Successful  6217807653094995999  1564055322         248   \n",
       "...                         ...                  ...         ...         ...   \n",
       "2823       Offers Screen Appear  2413191300976302222  1564617295         247   \n",
       "2824         Main Screen Appear  5505110279185484837  1564617450         247   \n",
       "2825         Main Screen Appear  5505110279185484837  1564617462         247   \n",
       "2826         Main Screen Appear  5505110279185484837  1564617472         247   \n",
       "2827         Main Screen Appear  2413191300976302222  1564617599         247   \n",
       "\n",
       "            event_new_ts event_date  \n",
       "0    2019-07-25 04:43:36 2019-07-25  \n",
       "1    2019-07-25 11:11:42 2019-07-25  \n",
       "2    2019-07-25 11:28:47 2019-07-25  \n",
       "3    2019-07-25 11:28:47 2019-07-25  \n",
       "4    2019-07-25 11:48:42 2019-07-25  \n",
       "...                  ...        ...  \n",
       "2823 2019-07-31 23:54:55 2019-07-31  \n",
       "2824 2019-07-31 23:57:30 2019-07-31  \n",
       "2825 2019-07-31 23:57:42 2019-07-31  \n",
       "2826 2019-07-31 23:57:52 2019-07-31  \n",
       "2827 2019-07-31 23:59:59 2019-07-31  \n",
       "\n",
       "[2826 rows x 6 columns]"
      ]
     },
     "execution_count": 19,
     "metadata": {},
     "output_type": "execute_result"
    }
   ],
   "source": [
    "# memfilter data yang dianggap data lama\n",
    "df_old = df[df['event_new_ts'] < '2019-08-01']\n",
    "# menampilkan data lama\n",
    "df_old"
   ]
  },
  {
   "cell_type": "code",
   "execution_count": 20,
   "metadata": {
    "scrolled": false
   },
   "outputs": [
    {
     "data": {
      "text/html": [
       "<div>\n",
       "<style scoped>\n",
       "    .dataframe tbody tr th:only-of-type {\n",
       "        vertical-align: middle;\n",
       "    }\n",
       "\n",
       "    .dataframe tbody tr th {\n",
       "        vertical-align: top;\n",
       "    }\n",
       "\n",
       "    .dataframe thead th {\n",
       "        text-align: right;\n",
       "    }\n",
       "</style>\n",
       "<table border=\"1\" class=\"dataframe\">\n",
       "  <thead>\n",
       "    <tr style=\"text-align: right;\">\n",
       "      <th></th>\n",
       "      <th>event</th>\n",
       "      <th>user_id</th>\n",
       "      <th>event_ts</th>\n",
       "      <th>exp_number</th>\n",
       "      <th>event_new_ts</th>\n",
       "      <th>event_date</th>\n",
       "    </tr>\n",
       "  </thead>\n",
       "  <tbody>\n",
       "    <tr>\n",
       "      <th>2828</th>\n",
       "      <td>Tutorial</td>\n",
       "      <td>3737462046622621720</td>\n",
       "      <td>1564618048</td>\n",
       "      <td>246</td>\n",
       "      <td>2019-08-01 00:07:28</td>\n",
       "      <td>2019-08-01</td>\n",
       "    </tr>\n",
       "    <tr>\n",
       "      <th>2829</th>\n",
       "      <td>Main Screen Appear</td>\n",
       "      <td>3737462046622621720</td>\n",
       "      <td>1564618080</td>\n",
       "      <td>246</td>\n",
       "      <td>2019-08-01 00:08:00</td>\n",
       "      <td>2019-08-01</td>\n",
       "    </tr>\n",
       "    <tr>\n",
       "      <th>2830</th>\n",
       "      <td>Main Screen Appear</td>\n",
       "      <td>3737462046622621720</td>\n",
       "      <td>1564618135</td>\n",
       "      <td>246</td>\n",
       "      <td>2019-08-01 00:08:55</td>\n",
       "      <td>2019-08-01</td>\n",
       "    </tr>\n",
       "    <tr>\n",
       "      <th>2831</th>\n",
       "      <td>Offers Screen Appear</td>\n",
       "      <td>3737462046622621720</td>\n",
       "      <td>1564618138</td>\n",
       "      <td>246</td>\n",
       "      <td>2019-08-01 00:08:58</td>\n",
       "      <td>2019-08-01</td>\n",
       "    </tr>\n",
       "    <tr>\n",
       "      <th>2832</th>\n",
       "      <td>Main Screen Appear</td>\n",
       "      <td>1433840883824088890</td>\n",
       "      <td>1564618139</td>\n",
       "      <td>247</td>\n",
       "      <td>2019-08-01 00:08:59</td>\n",
       "      <td>2019-08-01</td>\n",
       "    </tr>\n",
       "    <tr>\n",
       "      <th>...</th>\n",
       "      <td>...</td>\n",
       "      <td>...</td>\n",
       "      <td>...</td>\n",
       "      <td>...</td>\n",
       "      <td>...</td>\n",
       "      <td>...</td>\n",
       "    </tr>\n",
       "    <tr>\n",
       "      <th>244121</th>\n",
       "      <td>Main Screen Appear</td>\n",
       "      <td>4599628364049201812</td>\n",
       "      <td>1565212345</td>\n",
       "      <td>247</td>\n",
       "      <td>2019-08-07 21:12:25</td>\n",
       "      <td>2019-08-07</td>\n",
       "    </tr>\n",
       "    <tr>\n",
       "      <th>244122</th>\n",
       "      <td>Main Screen Appear</td>\n",
       "      <td>5849806612437486590</td>\n",
       "      <td>1565212439</td>\n",
       "      <td>246</td>\n",
       "      <td>2019-08-07 21:13:59</td>\n",
       "      <td>2019-08-07</td>\n",
       "    </tr>\n",
       "    <tr>\n",
       "      <th>244123</th>\n",
       "      <td>Main Screen Appear</td>\n",
       "      <td>5746969938801999050</td>\n",
       "      <td>1565212483</td>\n",
       "      <td>246</td>\n",
       "      <td>2019-08-07 21:14:43</td>\n",
       "      <td>2019-08-07</td>\n",
       "    </tr>\n",
       "    <tr>\n",
       "      <th>244124</th>\n",
       "      <td>Main Screen Appear</td>\n",
       "      <td>5746969938801999050</td>\n",
       "      <td>1565212498</td>\n",
       "      <td>246</td>\n",
       "      <td>2019-08-07 21:14:58</td>\n",
       "      <td>2019-08-07</td>\n",
       "    </tr>\n",
       "    <tr>\n",
       "      <th>244125</th>\n",
       "      <td>Offers Screen Appear</td>\n",
       "      <td>5746969938801999050</td>\n",
       "      <td>1565212517</td>\n",
       "      <td>246</td>\n",
       "      <td>2019-08-07 21:15:17</td>\n",
       "      <td>2019-08-07</td>\n",
       "    </tr>\n",
       "  </tbody>\n",
       "</table>\n",
       "<p>240887 rows × 6 columns</p>\n",
       "</div>"
      ],
      "text/plain": [
       "                       event              user_id    event_ts  exp_number  \\\n",
       "2828                Tutorial  3737462046622621720  1564618048         246   \n",
       "2829      Main Screen Appear  3737462046622621720  1564618080         246   \n",
       "2830      Main Screen Appear  3737462046622621720  1564618135         246   \n",
       "2831    Offers Screen Appear  3737462046622621720  1564618138         246   \n",
       "2832      Main Screen Appear  1433840883824088890  1564618139         247   \n",
       "...                      ...                  ...         ...         ...   \n",
       "244121    Main Screen Appear  4599628364049201812  1565212345         247   \n",
       "244122    Main Screen Appear  5849806612437486590  1565212439         246   \n",
       "244123    Main Screen Appear  5746969938801999050  1565212483         246   \n",
       "244124    Main Screen Appear  5746969938801999050  1565212498         246   \n",
       "244125  Offers Screen Appear  5746969938801999050  1565212517         246   \n",
       "\n",
       "              event_new_ts event_date  \n",
       "2828   2019-08-01 00:07:28 2019-08-01  \n",
       "2829   2019-08-01 00:08:00 2019-08-01  \n",
       "2830   2019-08-01 00:08:55 2019-08-01  \n",
       "2831   2019-08-01 00:08:58 2019-08-01  \n",
       "2832   2019-08-01 00:08:59 2019-08-01  \n",
       "...                    ...        ...  \n",
       "244121 2019-08-07 21:12:25 2019-08-07  \n",
       "244122 2019-08-07 21:13:59 2019-08-07  \n",
       "244123 2019-08-07 21:14:43 2019-08-07  \n",
       "244124 2019-08-07 21:14:58 2019-08-07  \n",
       "244125 2019-08-07 21:15:17 2019-08-07  \n",
       "\n",
       "[240887 rows x 6 columns]"
      ]
     },
     "execution_count": 20,
     "metadata": {},
     "output_type": "execute_result"
    }
   ],
   "source": [
    "# memfilter data baru\n",
    "df_new = df[df['event_new_ts'] >= '2019-08-01']\n",
    "# menampilkan data baru\n",
    "df_new"
   ]
  },
  {
   "cell_type": "markdown",
   "metadata": {},
   "source": [
    "Sekarang kita memiliki data yang berjumlah 240887 baris, kita telah mengeliminasi data lama sejumlah 2826 baris. Jumla yang terbilang sedikit.\n",
    "\n",
    "Setelah kita selesai memfilter data, kita juga perlu memastikan bahwa ada pengguna pada setiap kelompok."
   ]
  },
  {
   "cell_type": "code",
   "execution_count": 21,
   "metadata": {},
   "outputs": [
    {
     "data": {
      "text/plain": [
       "248    84563\n",
       "246    79302\n",
       "247    77022\n",
       "Name: exp_number, dtype: int64"
      ]
     },
     "execution_count": 21,
     "metadata": {},
     "output_type": "execute_result"
    }
   ],
   "source": [
    "# memastikan ada pengguna pada ketiga grup event\n",
    "df_new['exp_number'].value_counts()"
   ]
  },
  {
   "cell_type": "markdown",
   "metadata": {},
   "source": [
    "## Tahap 3. Mempelajari Event Funnel\n",
    "Kita telah selesai menganalisa data. Di tahap ketiga ini, kita akan mempelajari corong peristiwa / event funnel yang kita miliki. Pertama, mari kita lihat event dan berapa frekuensi kemunculannya."
   ]
  },
  {
   "cell_type": "code",
   "execution_count": 22,
   "metadata": {},
   "outputs": [
    {
     "data": {
      "text/html": [
       "<div>\n",
       "<style scoped>\n",
       "    .dataframe tbody tr th:only-of-type {\n",
       "        vertical-align: middle;\n",
       "    }\n",
       "\n",
       "    .dataframe tbody tr th {\n",
       "        vertical-align: top;\n",
       "    }\n",
       "\n",
       "    .dataframe thead th {\n",
       "        text-align: right;\n",
       "    }\n",
       "</style>\n",
       "<table border=\"1\" class=\"dataframe\">\n",
       "  <thead>\n",
       "    <tr style=\"text-align: right;\">\n",
       "      <th></th>\n",
       "      <th>event_new_ts</th>\n",
       "    </tr>\n",
       "    <tr>\n",
       "      <th>event</th>\n",
       "      <th></th>\n",
       "    </tr>\n",
       "  </thead>\n",
       "  <tbody>\n",
       "    <tr>\n",
       "      <th>Main Screen Appear</th>\n",
       "      <td>117328</td>\n",
       "    </tr>\n",
       "    <tr>\n",
       "      <th>Offers Screen Appear</th>\n",
       "      <td>46333</td>\n",
       "    </tr>\n",
       "    <tr>\n",
       "      <th>Cart Screen Appear</th>\n",
       "      <td>42303</td>\n",
       "    </tr>\n",
       "    <tr>\n",
       "      <th>Payment Screen Successful</th>\n",
       "      <td>33918</td>\n",
       "    </tr>\n",
       "    <tr>\n",
       "      <th>Tutorial</th>\n",
       "      <td>1005</td>\n",
       "    </tr>\n",
       "  </tbody>\n",
       "</table>\n",
       "</div>"
      ],
      "text/plain": [
       "                           event_new_ts\n",
       "event                                  \n",
       "Main Screen Appear               117328\n",
       "Offers Screen Appear              46333\n",
       "Cart Screen Appear                42303\n",
       "Payment Screen Successful         33918\n",
       "Tutorial                           1005"
      ]
     },
     "execution_count": 22,
     "metadata": {},
     "output_type": "execute_result"
    }
   ],
   "source": [
    "# melihat event dan frekuensi kemunculannya\n",
    "event_log = df_new.pivot_table(index='event',values='event_new_ts', aggfunc='count').sort_values(by='event_new_ts', \n",
    "                                                                                                      ascending=False)\n",
    "event_log"
   ]
  },
  {
   "cell_type": "code",
   "execution_count": 23,
   "metadata": {},
   "outputs": [
    {
     "data": {
      "text/html": [
       "<div>\n",
       "<style scoped>\n",
       "    .dataframe tbody tr th:only-of-type {\n",
       "        vertical-align: middle;\n",
       "    }\n",
       "\n",
       "    .dataframe tbody tr th {\n",
       "        vertical-align: top;\n",
       "    }\n",
       "\n",
       "    .dataframe thead th {\n",
       "        text-align: right;\n",
       "    }\n",
       "</style>\n",
       "<table border=\"1\" class=\"dataframe\">\n",
       "  <thead>\n",
       "    <tr style=\"text-align: right;\">\n",
       "      <th></th>\n",
       "      <th>user_id</th>\n",
       "    </tr>\n",
       "    <tr>\n",
       "      <th>event</th>\n",
       "      <th></th>\n",
       "    </tr>\n",
       "  </thead>\n",
       "  <tbody>\n",
       "    <tr>\n",
       "      <th>Main Screen Appear</th>\n",
       "      <td>7419</td>\n",
       "    </tr>\n",
       "    <tr>\n",
       "      <th>Offers Screen Appear</th>\n",
       "      <td>4593</td>\n",
       "    </tr>\n",
       "    <tr>\n",
       "      <th>Cart Screen Appear</th>\n",
       "      <td>3734</td>\n",
       "    </tr>\n",
       "    <tr>\n",
       "      <th>Payment Screen Successful</th>\n",
       "      <td>3539</td>\n",
       "    </tr>\n",
       "    <tr>\n",
       "      <th>Tutorial</th>\n",
       "      <td>840</td>\n",
       "    </tr>\n",
       "  </tbody>\n",
       "</table>\n",
       "</div>"
      ],
      "text/plain": [
       "                           user_id\n",
       "event                             \n",
       "Main Screen Appear            7419\n",
       "Offers Screen Appear          4593\n",
       "Cart Screen Appear            3734\n",
       "Payment Screen Successful     3539\n",
       "Tutorial                       840"
      ]
     },
     "execution_count": 23,
     "metadata": {},
     "output_type": "execute_result"
    }
   ],
   "source": [
    "# melihat jumlah pengguna yang melakukan setiap tindakan event\n",
    "user_event = df_new.groupby('event').agg({'user_id':'nunique'})\n",
    "user_event.sort_values(by='user_id',ascending=False)"
   ]
  },
  {
   "cell_type": "code",
   "execution_count": 24,
   "metadata": {},
   "outputs": [
    {
     "data": {
      "text/html": [
       "<div>\n",
       "<style scoped>\n",
       "    .dataframe tbody tr th:only-of-type {\n",
       "        vertical-align: middle;\n",
       "    }\n",
       "\n",
       "    .dataframe tbody tr th {\n",
       "        vertical-align: top;\n",
       "    }\n",
       "\n",
       "    .dataframe thead th {\n",
       "        text-align: right;\n",
       "    }\n",
       "</style>\n",
       "<table border=\"1\" class=\"dataframe\">\n",
       "  <thead>\n",
       "    <tr style=\"text-align: right;\">\n",
       "      <th></th>\n",
       "      <th>user_id</th>\n",
       "    </tr>\n",
       "    <tr>\n",
       "      <th>event</th>\n",
       "      <th></th>\n",
       "    </tr>\n",
       "  </thead>\n",
       "  <tbody>\n",
       "    <tr>\n",
       "      <th>Main Screen Appear</th>\n",
       "      <td>36.864596</td>\n",
       "    </tr>\n",
       "    <tr>\n",
       "      <th>Offers Screen Appear</th>\n",
       "      <td>22.822360</td>\n",
       "    </tr>\n",
       "    <tr>\n",
       "      <th>Cart Screen Appear</th>\n",
       "      <td>18.554037</td>\n",
       "    </tr>\n",
       "    <tr>\n",
       "      <th>Payment Screen Successful</th>\n",
       "      <td>17.585093</td>\n",
       "    </tr>\n",
       "    <tr>\n",
       "      <th>Tutorial</th>\n",
       "      <td>4.173913</td>\n",
       "    </tr>\n",
       "  </tbody>\n",
       "</table>\n",
       "</div>"
      ],
      "text/plain": [
       "                             user_id\n",
       "event                               \n",
       "Main Screen Appear         36.864596\n",
       "Offers Screen Appear       22.822360\n",
       "Cart Screen Appear         18.554037\n",
       "Payment Screen Successful  17.585093\n",
       "Tutorial                    4.173913"
      ]
     },
     "execution_count": 24,
     "metadata": {},
     "output_type": "execute_result"
    }
   ],
   "source": [
    "# menghitung proporsi pengguna yang melakukan tindakan minimal 1x\n",
    "user_prop = user_event.apply(lambda x: x*100/x.sum())\n",
    "user_prop.sort_values(by='user_id',ascending=False)"
   ]
  },
  {
   "cell_type": "markdown",
   "metadata": {},
   "source": [
    "Menurut saya, urutan ini terjadi begitu pengguna membuka aplikasi, halaman pertama yang muncul tentu saja halaman utama/main screen. Promo atau diskon umumnya muncul sebagai pop-up pada aplikasi. Setelah melihat promo yang ditawarkan, ada 2 pilihan yang dilakukan pengguna yaitu memasukkan item promo ke keranjang/cart, atau melewatkan promo karena tidak berminat dengan item yang ditawarkan.\n",
    "\n",
    "Setelah pengguna merasa sudah cukup berbelanja, mereka akan beralih ke halaman berikutnya untuk melakukan pembayaran. Untuk halaman tutorial yang biasanya muncul setelah halaman utama, banyak pengguna yang memilih untuk melewati halaman ini, maka jumlah pengguna yang melakukan tutorial jauh lebih sedikit dibandingkan jumlah pengguna pada halaman lainnya."
   ]
  },
  {
   "cell_type": "markdown",
   "metadata": {},
   "source": [
    "### Membuat Pivot Table\n",
    "Untuk membuat event funnel, kita akan membuat pivot table lebih dulu dengan menggunakan pengguna sebagai indeks, event sebagai kolom dan waktu serta tanggal sebagai values untuk mengetahui tahapan yang dilakukan pengguna."
   ]
  },
  {
   "cell_type": "code",
   "execution_count": 25,
   "metadata": {},
   "outputs": [
    {
     "data": {
      "text/html": [
       "<div>\n",
       "<style scoped>\n",
       "    .dataframe tbody tr th:only-of-type {\n",
       "        vertical-align: middle;\n",
       "    }\n",
       "\n",
       "    .dataframe tbody tr th {\n",
       "        vertical-align: top;\n",
       "    }\n",
       "\n",
       "    .dataframe thead th {\n",
       "        text-align: right;\n",
       "    }\n",
       "</style>\n",
       "<table border=\"1\" class=\"dataframe\">\n",
       "  <thead>\n",
       "    <tr style=\"text-align: right;\">\n",
       "      <th>event</th>\n",
       "      <th>Cart Screen Appear</th>\n",
       "      <th>Main Screen Appear</th>\n",
       "      <th>Offers Screen Appear</th>\n",
       "      <th>Payment Screen Successful</th>\n",
       "      <th>Tutorial</th>\n",
       "    </tr>\n",
       "    <tr>\n",
       "      <th>user_id</th>\n",
       "      <th></th>\n",
       "      <th></th>\n",
       "      <th></th>\n",
       "      <th></th>\n",
       "      <th></th>\n",
       "    </tr>\n",
       "  </thead>\n",
       "  <tbody>\n",
       "    <tr>\n",
       "      <th>6888746892508752</th>\n",
       "      <td>NaT</td>\n",
       "      <td>2019-08-06 14:06:34</td>\n",
       "      <td>NaT</td>\n",
       "      <td>NaT</td>\n",
       "      <td>NaT</td>\n",
       "    </tr>\n",
       "    <tr>\n",
       "      <th>6909561520679493</th>\n",
       "      <td>2019-08-06 18:52:58</td>\n",
       "      <td>2019-08-06 18:52:54</td>\n",
       "      <td>2019-08-06 18:53:04</td>\n",
       "      <td>2019-08-06 18:52:58</td>\n",
       "      <td>NaT</td>\n",
       "    </tr>\n",
       "    <tr>\n",
       "      <th>6922444491712477</th>\n",
       "      <td>2019-08-04 14:19:40</td>\n",
       "      <td>2019-08-04 14:19:33</td>\n",
       "      <td>2019-08-04 14:19:46</td>\n",
       "      <td>2019-08-04 14:19:40</td>\n",
       "      <td>NaT</td>\n",
       "    </tr>\n",
       "    <tr>\n",
       "      <th>7435777799948366</th>\n",
       "      <td>NaT</td>\n",
       "      <td>2019-08-05 08:06:34</td>\n",
       "      <td>NaT</td>\n",
       "      <td>NaT</td>\n",
       "      <td>NaT</td>\n",
       "    </tr>\n",
       "    <tr>\n",
       "      <th>7702139951469979</th>\n",
       "      <td>2019-08-02 14:28:45</td>\n",
       "      <td>2019-08-01 04:29:54</td>\n",
       "      <td>2019-08-01 04:29:56</td>\n",
       "      <td>2019-08-02 14:28:45</td>\n",
       "      <td>NaT</td>\n",
       "    </tr>\n",
       "    <tr>\n",
       "      <th>...</th>\n",
       "      <td>...</td>\n",
       "      <td>...</td>\n",
       "      <td>...</td>\n",
       "      <td>...</td>\n",
       "      <td>...</td>\n",
       "    </tr>\n",
       "    <tr>\n",
       "      <th>9217594193087726423</th>\n",
       "      <td>2019-08-02 09:00:58</td>\n",
       "      <td>NaT</td>\n",
       "      <td>2019-08-02 09:01:08</td>\n",
       "      <td>2019-08-02 09:00:57</td>\n",
       "      <td>NaT</td>\n",
       "    </tr>\n",
       "    <tr>\n",
       "      <th>9219463515465815368</th>\n",
       "      <td>2019-08-06 16:49:40</td>\n",
       "      <td>2019-08-05 05:26:26</td>\n",
       "      <td>2019-08-06 16:48:57</td>\n",
       "      <td>2019-08-06 16:52:16</td>\n",
       "      <td>NaT</td>\n",
       "    </tr>\n",
       "    <tr>\n",
       "      <th>9220879493065341500</th>\n",
       "      <td>2019-08-02 17:59:16</td>\n",
       "      <td>2019-08-02 17:58:48</td>\n",
       "      <td>2019-08-02 17:59:00</td>\n",
       "      <td>NaT</td>\n",
       "      <td>NaT</td>\n",
       "    </tr>\n",
       "    <tr>\n",
       "      <th>9221926045299980007</th>\n",
       "      <td>NaT</td>\n",
       "      <td>2019-08-01 17:30:27</td>\n",
       "      <td>NaT</td>\n",
       "      <td>NaT</td>\n",
       "      <td>NaT</td>\n",
       "    </tr>\n",
       "    <tr>\n",
       "      <th>9222603179720523844</th>\n",
       "      <td>NaT</td>\n",
       "      <td>2019-08-01 06:52:13</td>\n",
       "      <td>NaT</td>\n",
       "      <td>NaT</td>\n",
       "      <td>NaT</td>\n",
       "    </tr>\n",
       "  </tbody>\n",
       "</table>\n",
       "<p>7534 rows × 5 columns</p>\n",
       "</div>"
      ],
      "text/plain": [
       "event                Cart Screen Appear  Main Screen Appear  \\\n",
       "user_id                                                       \n",
       "6888746892508752                    NaT 2019-08-06 14:06:34   \n",
       "6909561520679493    2019-08-06 18:52:58 2019-08-06 18:52:54   \n",
       "6922444491712477    2019-08-04 14:19:40 2019-08-04 14:19:33   \n",
       "7435777799948366                    NaT 2019-08-05 08:06:34   \n",
       "7702139951469979    2019-08-02 14:28:45 2019-08-01 04:29:54   \n",
       "...                                 ...                 ...   \n",
       "9217594193087726423 2019-08-02 09:00:58                 NaT   \n",
       "9219463515465815368 2019-08-06 16:49:40 2019-08-05 05:26:26   \n",
       "9220879493065341500 2019-08-02 17:59:16 2019-08-02 17:58:48   \n",
       "9221926045299980007                 NaT 2019-08-01 17:30:27   \n",
       "9222603179720523844                 NaT 2019-08-01 06:52:13   \n",
       "\n",
       "event               Offers Screen Appear Payment Screen Successful Tutorial  \n",
       "user_id                                                                      \n",
       "6888746892508752                     NaT                       NaT      NaT  \n",
       "6909561520679493     2019-08-06 18:53:04       2019-08-06 18:52:58      NaT  \n",
       "6922444491712477     2019-08-04 14:19:46       2019-08-04 14:19:40      NaT  \n",
       "7435777799948366                     NaT                       NaT      NaT  \n",
       "7702139951469979     2019-08-01 04:29:56       2019-08-02 14:28:45      NaT  \n",
       "...                                  ...                       ...      ...  \n",
       "9217594193087726423  2019-08-02 09:01:08       2019-08-02 09:00:57      NaT  \n",
       "9219463515465815368  2019-08-06 16:48:57       2019-08-06 16:52:16      NaT  \n",
       "9220879493065341500  2019-08-02 17:59:00                       NaT      NaT  \n",
       "9221926045299980007                  NaT                       NaT      NaT  \n",
       "9222603179720523844                  NaT                       NaT      NaT  \n",
       "\n",
       "[7534 rows x 5 columns]"
      ]
     },
     "execution_count": 25,
     "metadata": {},
     "output_type": "execute_result"
    }
   ],
   "source": [
    "# membuat pivot table pengguna yang terus berlanjut dari halaman pertama hingga akhir\n",
    "event_funnel = df_new.pivot_table(index='user_id',\n",
    "                                 columns='event',\n",
    "                                 values='event_new_ts',\n",
    "                                 aggfunc='min')\n",
    "event_funnel"
   ]
  },
  {
   "cell_type": "code",
   "execution_count": 26,
   "metadata": {
    "scrolled": false
   },
   "outputs": [],
   "source": [
    "# membuat corong\n",
    "step_1 = ~event_funnel['Main Screen Appear'].isna()\n",
    "step_2 = step_1 & (event_funnel['Offers Screen Appear'] > event_funnel['Main Screen Appear'])\n",
    "step_3 = step_2 & (event_funnel['Cart Screen Appear'] > event_funnel['Offers Screen Appear'])\n",
    "step_4 = step_3 & (event_funnel['Payment Screen Successful'] > event_funnel['Cart Screen Appear'])"
   ]
  },
  {
   "cell_type": "markdown",
   "metadata": {},
   "source": [
    "Karena jumlah event tutorial sangat sedikit, kita akan menganggapnya sebagai outlier dan tidak mengikutsertakannya dalam pembuatan funnel."
   ]
  },
  {
   "cell_type": "code",
   "execution_count": 27,
   "metadata": {},
   "outputs": [],
   "source": [
    "# mengaplikasikan corong\n",
    "n_main_screen = event_funnel[step_1].shape[0]\n",
    "n_offer_screen = event_funnel[step_2].shape[0]\n",
    "n_cart_screen = event_funnel[step_3].shape[0]\n",
    "n_payment_screen = event_funnel[step_4].shape[0]"
   ]
  },
  {
   "cell_type": "code",
   "execution_count": 28,
   "metadata": {
    "scrolled": true
   },
   "outputs": [
    {
     "name": "stdout",
     "output_type": "stream",
     "text": [
      "Main screen: 7419\n",
      "Offer screen: 4201\n",
      "Cart screen: 1767\n",
      "Payment screen: 454\n"
     ]
    }
   ],
   "source": [
    "# mencetak hasil corong\n",
    "print('Main screen:', n_main_screen)\n",
    "print('Offer screen:', n_offer_screen)\n",
    "print('Cart screen:', n_cart_screen)\n",
    "print('Payment screen:', n_payment_screen)"
   ]
  },
  {
   "cell_type": "markdown",
   "metadata": {},
   "source": [
    "Pada main screen, kita memiliki 7419 pengguna dan pada event offer screen, jumlah pengguna kita berkurang hampir separuhnya. Mungkin pengguna hanya ingin melihat-lihat aplikasi saja, atau tidak sengaja membuka aplikasi. Jumlah pengguna yang sampai pada tahap pembayaran berjumlah 454 orang.\n",
    "\n",
    "### Rasio Pengguna dari Tahap ke Tahap\n",
    "Berikutnya kita akan menghitung rasio pengguna tahap ke tahap mulai dari main screen hingga tahap payment."
   ]
  },
  {
   "cell_type": "code",
   "execution_count": 29,
   "metadata": {},
   "outputs": [
    {
     "name": "stdout",
     "output_type": "stream",
     "text": [
      "Percentage user between offer screen and main screen: 56.625 %\n",
      "Percentage user between cart screen and offer screen: 42.061 %\n",
      "Percentage user between payment screen and cart screen: 25.693 %\n"
     ]
    }
   ],
   "source": [
    "# menghitung rasio pengguna tahap ke tahap\n",
    "print('Percentage user between offer screen and main screen:', round((n_offer_screen/n_main_screen*100),3),'%')\n",
    "print('Percentage user between cart screen and offer screen:', round((n_cart_screen/n_offer_screen*100),3),'%')\n",
    "print('Percentage user between payment screen and cart screen:',round((n_payment_screen/n_cart_screen*100),3),'%')"
   ]
  },
  {
   "cell_type": "raw",
   "metadata": {},
   "source": [
    "Dari hasil perhitungan diatas, dapat dilihat bahwa kita kehilangan banyak sekali pengguna saat baru tahap kedua yaitu \"offer screen\". Dan pada tahap selanjutnya hingga ke akhir, jumlah pengguna berkurang sama drastisnya. Hanya 25% pengguna yang melakukan transaksi pembayaran."
   ]
  },
  {
   "cell_type": "code",
   "execution_count": 30,
   "metadata": {},
   "outputs": [
    {
     "name": "stdout",
     "output_type": "stream",
     "text": [
      "Percentage of user who start event from beginning to end: 6.119 %\n"
     ]
    }
   ],
   "source": [
    "# menghitung persentase pengguna yang berhasil melakukan tindakan dari tahap awal hingga akhir\n",
    "print('Percentage of user who start event from beginning to end:', round((n_payment_screen/n_main_screen*100),3),'%')"
   ]
  },
  {
   "cell_type": "markdown",
   "metadata": {},
   "source": [
    "Pengguna yang melakukan tahap awal yaitu main screen hingga ke tahap akhir yaitu payment, hanya berjumlah 6%."
   ]
  },
  {
   "cell_type": "markdown",
   "metadata": {},
   "source": [
    "## Tahap 4. Mempelajari Hasil Eksperimen\n",
    "Pada tahap ini, kita akan mempelajari hasil eksperimen untuk mengetahui lebih lanjut mengenai aktivitas pengguna dan juga melakukan uji statistik.\n",
    "\n",
    "### Menghitung Jumlah Pengguna Setiap Kelompok"
   ]
  },
  {
   "cell_type": "code",
   "execution_count": 31,
   "metadata": {},
   "outputs": [
    {
     "data": {
      "text/html": [
       "<div>\n",
       "<style scoped>\n",
       "    .dataframe tbody tr th:only-of-type {\n",
       "        vertical-align: middle;\n",
       "    }\n",
       "\n",
       "    .dataframe tbody tr th {\n",
       "        vertical-align: top;\n",
       "    }\n",
       "\n",
       "    .dataframe thead th {\n",
       "        text-align: right;\n",
       "    }\n",
       "</style>\n",
       "<table border=\"1\" class=\"dataframe\">\n",
       "  <thead>\n",
       "    <tr style=\"text-align: right;\">\n",
       "      <th></th>\n",
       "      <th>user_id</th>\n",
       "    </tr>\n",
       "    <tr>\n",
       "      <th>exp_number</th>\n",
       "      <th></th>\n",
       "    </tr>\n",
       "  </thead>\n",
       "  <tbody>\n",
       "    <tr>\n",
       "      <th>246</th>\n",
       "      <td>2484</td>\n",
       "    </tr>\n",
       "    <tr>\n",
       "      <th>247</th>\n",
       "      <td>2513</td>\n",
       "    </tr>\n",
       "    <tr>\n",
       "      <th>248</th>\n",
       "      <td>2537</td>\n",
       "    </tr>\n",
       "  </tbody>\n",
       "</table>\n",
       "</div>"
      ],
      "text/plain": [
       "            user_id\n",
       "exp_number         \n",
       "246            2484\n",
       "247            2513\n",
       "248            2537"
      ]
     },
     "execution_count": 31,
     "metadata": {},
     "output_type": "execute_result"
    }
   ],
   "source": [
    "# menghitung jumlah pengguna di setiap kelompok\n",
    "users_group = df_new.pivot_table(index='exp_number',\n",
    "                                 values='user_id',\n",
    "                                 aggfunc='nunique')\n",
    "users_group"
   ]
  },
  {
   "cell_type": "markdown",
   "metadata": {},
   "source": [
    "Jumlah pengguna pada masing-masing kelompok tidak memiliki perbedaan yang siginifikan. Jumlahnya hanya selisih beberapa puluh orang saja.\n",
    "\n",
    "### Event Paling Populer di Setiap Kelompok"
   ]
  },
  {
   "cell_type": "code",
   "execution_count": 32,
   "metadata": {},
   "outputs": [],
   "source": [
    "# melihat event paling populer pada setiap kelompok\n",
    "users_event_per_group = df_new.pivot_table(index='event',\n",
    "                                          values='user_id',\n",
    "                                          columns='exp_number',\n",
    "                                          aggfunc='nunique').sort_values(by=246, ascending=False)"
   ]
  },
  {
   "cell_type": "code",
   "execution_count": 33,
   "metadata": {},
   "outputs": [
    {
     "data": {
      "text/html": [
       "<div>\n",
       "<style scoped>\n",
       "    .dataframe tbody tr th:only-of-type {\n",
       "        vertical-align: middle;\n",
       "    }\n",
       "\n",
       "    .dataframe tbody tr th {\n",
       "        vertical-align: top;\n",
       "    }\n",
       "\n",
       "    .dataframe thead th {\n",
       "        text-align: right;\n",
       "    }\n",
       "</style>\n",
       "<table border=\"1\" class=\"dataframe\">\n",
       "  <thead>\n",
       "    <tr style=\"text-align: right;\">\n",
       "      <th>exp_number</th>\n",
       "      <th>246</th>\n",
       "      <th>247</th>\n",
       "      <th>248</th>\n",
       "    </tr>\n",
       "    <tr>\n",
       "      <th>event</th>\n",
       "      <th></th>\n",
       "      <th></th>\n",
       "      <th></th>\n",
       "    </tr>\n",
       "  </thead>\n",
       "  <tbody>\n",
       "    <tr>\n",
       "      <th>Main Screen Appear</th>\n",
       "      <td>2450</td>\n",
       "      <td>2476</td>\n",
       "      <td>2493</td>\n",
       "    </tr>\n",
       "    <tr>\n",
       "      <th>Offers Screen Appear</th>\n",
       "      <td>1542</td>\n",
       "      <td>1520</td>\n",
       "      <td>1531</td>\n",
       "    </tr>\n",
       "    <tr>\n",
       "      <th>Cart Screen Appear</th>\n",
       "      <td>1266</td>\n",
       "      <td>1238</td>\n",
       "      <td>1230</td>\n",
       "    </tr>\n",
       "    <tr>\n",
       "      <th>Payment Screen Successful</th>\n",
       "      <td>1200</td>\n",
       "      <td>1158</td>\n",
       "      <td>1181</td>\n",
       "    </tr>\n",
       "    <tr>\n",
       "      <th>Tutorial</th>\n",
       "      <td>278</td>\n",
       "      <td>283</td>\n",
       "      <td>279</td>\n",
       "    </tr>\n",
       "  </tbody>\n",
       "</table>\n",
       "</div>"
      ],
      "text/plain": [
       "exp_number                  246   247   248\n",
       "event                                      \n",
       "Main Screen Appear         2450  2476  2493\n",
       "Offers Screen Appear       1542  1520  1531\n",
       "Cart Screen Appear         1266  1238  1230\n",
       "Payment Screen Successful  1200  1158  1181\n",
       "Tutorial                    278   283   279"
      ]
     },
     "execution_count": 33,
     "metadata": {},
     "output_type": "execute_result"
    }
   ],
   "source": [
    "# menampilkan data\n",
    "users_event_per_group"
   ]
  },
  {
   "cell_type": "code",
   "execution_count": 34,
   "metadata": {},
   "outputs": [],
   "source": [
    "# trials exp number 246 unique users 2484\n",
    "# success main screen exp number 246 unique users 2450"
   ]
  },
  {
   "cell_type": "code",
   "execution_count": 35,
   "metadata": {},
   "outputs": [
    {
     "data": {
      "text/plain": [
       "user_id    2484\n",
       "Name: 246, dtype: int64"
      ]
     },
     "execution_count": 35,
     "metadata": {},
     "output_type": "execute_result"
    }
   ],
   "source": [
    "users_group.loc[246]"
   ]
  },
  {
   "cell_type": "code",
   "execution_count": 36,
   "metadata": {},
   "outputs": [
    {
     "data": {
      "text/plain": [
       "2450"
      ]
     },
     "execution_count": 36,
     "metadata": {},
     "output_type": "execute_result"
    }
   ],
   "source": [
    "users_event_per_group.loc['Main Screen Appear', 246]"
   ]
  },
  {
   "cell_type": "markdown",
   "metadata": {},
   "source": [
    "### Melakukan A/A Testing = 246/247\n",
    "Uji pertama yang kita lakukan adalah A/A testing, yaitu tes kesetaraan populasi antara kelompok 246 dan 247. Kedua kelompok ini menggunakan aplikasi dengan font lama. Kita menggunakan tingkat signifikansi 0.01"
   ]
  },
  {
   "cell_type": "code",
   "execution_count": 37,
   "metadata": {},
   "outputs": [],
   "source": [
    "def check_hypothesis(successes1, successes2, trials1, trials2, alpha=0.01):\n",
    "    # proportion of successes in the first group:\n",
    "    p1 = successes1/trials1\n",
    "    \n",
    "    # proportion of successes in the second group:\n",
    "    p2 = successes2/trials2\n",
    "    \n",
    "    # proportion of successes in the combined dataset:\n",
    "    p_combined = (successes1 + successes2) / (trials1 + trials2)\n",
    "    \n",
    "    # difference in proportions in datasets\n",
    "    difference = p1 - p2\n",
    "    \n",
    "    # calculate statistics in standard deviations of the standard normal distribution\n",
    "    z_value = difference / math.sqrt(p_combined * (1 - p_combined) * (1/trials1 + 1/trials2))\n",
    "    \n",
    "    # set standard normal distribution (mean 0, standard deviation 1)\n",
    "    distr = stats.norm(0, 1)\n",
    "    \n",
    "    # calculate statistics in standard deviations of the standard normal distribution\n",
    "    z_value = difference / math.sqrt(p_combined * (1 - p_combined) * (1/trials1 + 1/trials2))\n",
    "    p_value = (1 - distr.cdf(abs(z_value))) * 2\n",
    "    \n",
    "    print('p-value: ', p_value)\n",
    "    if (p_value < alpha):\n",
    "        print(\"Reject the null hypothesis: there is a significant difference between the shares\")\n",
    "    else:\n",
    "        print(\"Failed to reject the null hypothesis, there is no reason to consider the shares different\")"
   ]
  },
  {
   "cell_type": "code",
   "execution_count": 38,
   "metadata": {
    "scrolled": false
   },
   "outputs": [
    {
     "name": "stdout",
     "output_type": "stream",
     "text": [
      "p-value:  [0.75705972]\n",
      "Failed to reject the null hypothesis, there is no reason to consider the shares different\n"
     ]
    }
   ],
   "source": [
    "check_hypothesis(users_event_per_group.loc['Main Screen Appear', 246],\n",
    "                 users_event_per_group.loc['Main Screen Appear', 247],\n",
    "                 users_group.loc[246],\n",
    "                 users_group.loc[247])"
   ]
  },
  {
   "cell_type": "code",
   "execution_count": 39,
   "metadata": {},
   "outputs": [],
   "source": [
    "def check_event_hypothesis(users_events_per_group, users_group,\n",
    "                           event,\n",
    "                           exp1, exp2\n",
    "                          ):\n",
    "    frac1 = users_events_per_group.loc[event, exp1] / users_group.loc[exp1]\n",
    "    frac2 = users_events_per_group.loc[event, exp2] / users_group.loc[exp2]\n",
    "    print(f'{frac1} event {event} group {exp1}')\n",
    "    print(f'{frac2} event {event} group {exp2}')\n",
    "    check_hypothesis(users_events_per_group.loc[event, exp1],\n",
    "                     users_events_per_group.loc[event, exp2],\n",
    "                     users_group.loc[exp1],\n",
    "                     users_group.loc[exp2],\n",
    "                    )"
   ]
  },
  {
   "cell_type": "code",
   "execution_count": 40,
   "metadata": {},
   "outputs": [
    {
     "name": "stdout",
     "output_type": "stream",
     "text": [
      "user_id    0.986312\n",
      "Name: 246, dtype: float64 event Main Screen Appear group 246\n",
      "user_id    0.985277\n",
      "Name: 247, dtype: float64 event Main Screen Appear group 247\n",
      "p-value:  [0.75705972]\n",
      "Failed to reject the null hypothesis, there is no reason to consider the shares different\n",
      "---------------------------------------------------------------\n",
      "user_id    0.620773\n",
      "Name: 246, dtype: float64 event Offers Screen Appear group 246\n",
      "user_id    0.604855\n",
      "Name: 247, dtype: float64 event Offers Screen Appear group 247\n",
      "p-value:  [0.24809546]\n",
      "Failed to reject the null hypothesis, there is no reason to consider the shares different\n",
      "---------------------------------------------------------------\n",
      "user_id    0.509662\n",
      "Name: 246, dtype: float64 event Cart Screen Appear group 246\n",
      "user_id    0.492638\n",
      "Name: 247, dtype: float64 event Cart Screen Appear group 247\n",
      "p-value:  [0.22883372]\n",
      "Failed to reject the null hypothesis, there is no reason to consider the shares different\n",
      "---------------------------------------------------------------\n",
      "user_id    0.483092\n",
      "Name: 246, dtype: float64 event Payment Screen Successful group 246\n",
      "user_id    0.460804\n",
      "Name: 247, dtype: float64 event Payment Screen Successful group 247\n",
      "p-value:  [0.11456679]\n",
      "Failed to reject the null hypothesis, there is no reason to consider the shares different\n",
      "---------------------------------------------------------------\n",
      "user_id    0.111916\n",
      "Name: 246, dtype: float64 event Tutorial group 246\n",
      "user_id    0.112614\n",
      "Name: 247, dtype: float64 event Tutorial group 247\n",
      "p-value:  [0.93769962]\n",
      "Failed to reject the null hypothesis, there is no reason to consider the shares different\n",
      "---------------------------------------------------------------\n"
     ]
    }
   ],
   "source": [
    "for event in users_event_per_group.index:\n",
    "    check_event_hypothesis(users_event_per_group, users_group,\n",
    "                          event, 246, 247)\n",
    "    print('---------------------------------------------------------------')"
   ]
  },
  {
   "cell_type": "markdown",
   "metadata": {},
   "source": [
    "**Hasil uji kelompok 246 dan 247:**\n",
    "Tidak ada perbedaan signifikan diantara kedua kelompok.\n",
    "\n",
    "\n",
    "### Melakukan A/B Testing = 246/248\n",
    "Berikutnya kita melakukan uji statistik antara kelompok 246 dan 248. Kelompok 246 menggunakan aplikasi dengan font lama dan kelompok 248 menggunakan aplikasi dengan font baru."
   ]
  },
  {
   "cell_type": "code",
   "execution_count": 41,
   "metadata": {},
   "outputs": [
    {
     "name": "stdout",
     "output_type": "stream",
     "text": [
      "user_id    0.986312\n",
      "Name: 246, dtype: float64 event Main Screen Appear group 246\n",
      "user_id    0.982657\n",
      "Name: 248, dtype: float64 event Main Screen Appear group 248\n",
      "p-value:  [0.29497219]\n",
      "Failed to reject the null hypothesis, there is no reason to consider the shares different\n",
      "---------------------------------------------------------------\n",
      "user_id    0.620773\n",
      "Name: 246, dtype: float64 event Offers Screen Appear group 246\n",
      "user_id    0.603469\n",
      "Name: 248, dtype: float64 event Offers Screen Appear group 248\n",
      "p-value:  [0.20836205]\n",
      "Failed to reject the null hypothesis, there is no reason to consider the shares different\n",
      "---------------------------------------------------------------\n",
      "user_id    0.509662\n",
      "Name: 246, dtype: float64 event Cart Screen Appear group 246\n",
      "user_id    0.484825\n",
      "Name: 248, dtype: float64 event Cart Screen Appear group 248\n",
      "p-value:  [0.07842923]\n",
      "Failed to reject the null hypothesis, there is no reason to consider the shares different\n",
      "---------------------------------------------------------------\n",
      "user_id    0.483092\n",
      "Name: 246, dtype: float64 event Payment Screen Successful group 246\n",
      "user_id    0.46551\n",
      "Name: 248, dtype: float64 event Payment Screen Successful group 248\n",
      "p-value:  [0.21225533]\n",
      "Failed to reject the null hypothesis, there is no reason to consider the shares different\n",
      "---------------------------------------------------------------\n",
      "user_id    0.111916\n",
      "Name: 246, dtype: float64 event Tutorial group 246\n",
      "user_id    0.109972\n",
      "Name: 248, dtype: float64 event Tutorial group 248\n",
      "p-value:  [0.8264294]\n",
      "Failed to reject the null hypothesis, there is no reason to consider the shares different\n",
      "---------------------------------------------------------------\n"
     ]
    }
   ],
   "source": [
    "# menguji kelompok 246 dan 248\n",
    "for event in users_event_per_group.index:\n",
    "    check_event_hypothesis(users_event_per_group, users_group,\n",
    "                          event, 246, 248)\n",
    "    print('---------------------------------------------------------------')"
   ]
  },
  {
   "cell_type": "markdown",
   "metadata": {},
   "source": [
    "**Hasil uji kelompok 246 dan 248:**\n",
    "Tidak ada perbedaan signifikan diantara kedua kelompok.\n",
    "\n",
    "### Melakukan A/B Testing = 247/248\n",
    "Kelompok 247 menggunakan aplikasi dengan font lama dan kelompok 248 menggunakan aplikasi dengan font baru."
   ]
  },
  {
   "cell_type": "code",
   "execution_count": 42,
   "metadata": {},
   "outputs": [
    {
     "name": "stdout",
     "output_type": "stream",
     "text": [
      "user_id    0.985277\n",
      "Name: 247, dtype: float64 event Main Screen Appear group 247\n",
      "user_id    0.982657\n",
      "Name: 248, dtype: float64 event Main Screen Appear group 248\n",
      "p-value:  [0.45870536]\n",
      "Failed to reject the null hypothesis, there is no reason to consider the shares different\n",
      "---------------------------------------------------------------\n",
      "user_id    0.604855\n",
      "Name: 247, dtype: float64 event Offers Screen Appear group 247\n",
      "user_id    0.603469\n",
      "Name: 248, dtype: float64 event Offers Screen Appear group 248\n",
      "p-value:  [0.91978178]\n",
      "Failed to reject the null hypothesis, there is no reason to consider the shares different\n",
      "---------------------------------------------------------------\n",
      "user_id    0.492638\n",
      "Name: 247, dtype: float64 event Cart Screen Appear group 247\n",
      "user_id    0.484825\n",
      "Name: 248, dtype: float64 event Cart Screen Appear group 248\n",
      "p-value:  [0.57861979]\n",
      "Failed to reject the null hypothesis, there is no reason to consider the shares different\n",
      "---------------------------------------------------------------\n",
      "user_id    0.460804\n",
      "Name: 247, dtype: float64 event Payment Screen Successful group 247\n",
      "user_id    0.46551\n",
      "Name: 248, dtype: float64 event Payment Screen Successful group 248\n",
      "p-value:  [0.73734151]\n",
      "Failed to reject the null hypothesis, there is no reason to consider the shares different\n",
      "---------------------------------------------------------------\n",
      "user_id    0.112614\n",
      "Name: 247, dtype: float64 event Tutorial group 247\n",
      "user_id    0.109972\n",
      "Name: 248, dtype: float64 event Tutorial group 248\n",
      "p-value:  [0.76532392]\n",
      "Failed to reject the null hypothesis, there is no reason to consider the shares different\n",
      "---------------------------------------------------------------\n"
     ]
    }
   ],
   "source": [
    "# menguji kelompok 247 dan 248\n",
    "for event in users_event_per_group.index:\n",
    "    check_event_hypothesis(users_event_per_group, users_group,\n",
    "                          event, 247, 248)\n",
    "    print('---------------------------------------------------------------')"
   ]
  },
  {
   "cell_type": "markdown",
   "metadata": {},
   "source": [
    "**Hasil uji kelompok 247 dan 248:**\n",
    "Tidak ada perbedaan signifikan diantara kedua kelompok.\n",
    "\n",
    "\n",
    "### Melakukan A/A/B Testing = 246/247/248\n",
    "Uji statistik kali ini, kita akan menggabungkan data kedua kelompok kontrol (246 & 247) dan baru kemudian mengujinya dengan kelompok 248."
   ]
  },
  {
   "cell_type": "code",
   "execution_count": 43,
   "metadata": {},
   "outputs": [],
   "source": [
    "# menggabungkan data kelompok 246 dan 247\n",
    "users_event_per_group_control = users_event_per_group.copy()\n",
    "users_event_per_group_control.loc[:, 247] += users_event_per_group_control.loc[:, 246]\n",
    "users_event_per_group_control.drop(columns=246, inplace=True)"
   ]
  },
  {
   "cell_type": "code",
   "execution_count": 44,
   "metadata": {},
   "outputs": [
    {
     "data": {
      "text/html": [
       "<div>\n",
       "<style scoped>\n",
       "    .dataframe tbody tr th:only-of-type {\n",
       "        vertical-align: middle;\n",
       "    }\n",
       "\n",
       "    .dataframe tbody tr th {\n",
       "        vertical-align: top;\n",
       "    }\n",
       "\n",
       "    .dataframe thead th {\n",
       "        text-align: right;\n",
       "    }\n",
       "</style>\n",
       "<table border=\"1\" class=\"dataframe\">\n",
       "  <thead>\n",
       "    <tr style=\"text-align: right;\">\n",
       "      <th>exp_number</th>\n",
       "      <th>247</th>\n",
       "      <th>248</th>\n",
       "    </tr>\n",
       "    <tr>\n",
       "      <th>event</th>\n",
       "      <th></th>\n",
       "      <th></th>\n",
       "    </tr>\n",
       "  </thead>\n",
       "  <tbody>\n",
       "    <tr>\n",
       "      <th>Main Screen Appear</th>\n",
       "      <td>4926</td>\n",
       "      <td>2493</td>\n",
       "    </tr>\n",
       "    <tr>\n",
       "      <th>Offers Screen Appear</th>\n",
       "      <td>3062</td>\n",
       "      <td>1531</td>\n",
       "    </tr>\n",
       "    <tr>\n",
       "      <th>Cart Screen Appear</th>\n",
       "      <td>2504</td>\n",
       "      <td>1230</td>\n",
       "    </tr>\n",
       "    <tr>\n",
       "      <th>Payment Screen Successful</th>\n",
       "      <td>2358</td>\n",
       "      <td>1181</td>\n",
       "    </tr>\n",
       "    <tr>\n",
       "      <th>Tutorial</th>\n",
       "      <td>561</td>\n",
       "      <td>279</td>\n",
       "    </tr>\n",
       "  </tbody>\n",
       "</table>\n",
       "</div>"
      ],
      "text/plain": [
       "exp_number                  247   248\n",
       "event                                \n",
       "Main Screen Appear         4926  2493\n",
       "Offers Screen Appear       3062  1531\n",
       "Cart Screen Appear         2504  1230\n",
       "Payment Screen Successful  2358  1181\n",
       "Tutorial                    561   279"
      ]
     },
     "execution_count": 44,
     "metadata": {},
     "output_type": "execute_result"
    }
   ],
   "source": [
    "# menampilkan data\n",
    "users_event_per_group_control"
   ]
  },
  {
   "cell_type": "code",
   "execution_count": 45,
   "metadata": {},
   "outputs": [],
   "source": [
    "# menggabungkan data kelompok 246 dan 247\n",
    "users_group_control = users_group.copy()\n",
    "users_group_control.loc[247] += users_group_control.loc[246]\n",
    "users_group_control.drop(246, inplace=True)"
   ]
  },
  {
   "cell_type": "code",
   "execution_count": 46,
   "metadata": {},
   "outputs": [
    {
     "data": {
      "text/html": [
       "<div>\n",
       "<style scoped>\n",
       "    .dataframe tbody tr th:only-of-type {\n",
       "        vertical-align: middle;\n",
       "    }\n",
       "\n",
       "    .dataframe tbody tr th {\n",
       "        vertical-align: top;\n",
       "    }\n",
       "\n",
       "    .dataframe thead th {\n",
       "        text-align: right;\n",
       "    }\n",
       "</style>\n",
       "<table border=\"1\" class=\"dataframe\">\n",
       "  <thead>\n",
       "    <tr style=\"text-align: right;\">\n",
       "      <th></th>\n",
       "      <th>user_id</th>\n",
       "    </tr>\n",
       "    <tr>\n",
       "      <th>exp_number</th>\n",
       "      <th></th>\n",
       "    </tr>\n",
       "  </thead>\n",
       "  <tbody>\n",
       "    <tr>\n",
       "      <th>247</th>\n",
       "      <td>4997</td>\n",
       "    </tr>\n",
       "    <tr>\n",
       "      <th>248</th>\n",
       "      <td>2537</td>\n",
       "    </tr>\n",
       "  </tbody>\n",
       "</table>\n",
       "</div>"
      ],
      "text/plain": [
       "            user_id\n",
       "exp_number         \n",
       "247            4997\n",
       "248            2537"
      ]
     },
     "execution_count": 46,
     "metadata": {},
     "output_type": "execute_result"
    }
   ],
   "source": [
    "# menampilkan data\n",
    "users_group_control"
   ]
  },
  {
   "cell_type": "code",
   "execution_count": 47,
   "metadata": {},
   "outputs": [
    {
     "name": "stdout",
     "output_type": "stream",
     "text": [
      "user_id    0.985791\n",
      "Name: 247, dtype: float64 event Main Screen Appear group 247\n",
      "user_id    0.982657\n",
      "Name: 248, dtype: float64 event Main Screen Appear group 248\n",
      "p-value:  [0.29424527]\n",
      "Failed to reject the null hypothesis, there is no reason to consider the shares different\n",
      "---------------------------------------------------------------\n",
      "user_id    0.612768\n",
      "Name: 247, dtype: float64 event Offers Screen Appear group 247\n",
      "user_id    0.603469\n",
      "Name: 248, dtype: float64 event Offers Screen Appear group 248\n",
      "p-value:  [0.4342555]\n",
      "Failed to reject the null hypothesis, there is no reason to consider the shares different\n",
      "---------------------------------------------------------------\n",
      "user_id    0.501101\n",
      "Name: 247, dtype: float64 event Cart Screen Appear group 247\n",
      "user_id    0.484825\n",
      "Name: 248, dtype: float64 event Cart Screen Appear group 248\n",
      "p-value:  [0.18175875]\n",
      "Failed to reject the null hypothesis, there is no reason to consider the shares different\n",
      "---------------------------------------------------------------\n",
      "user_id    0.471883\n",
      "Name: 247, dtype: float64 event Payment Screen Successful group 247\n",
      "user_id    0.46551\n",
      "Name: 248, dtype: float64 event Payment Screen Successful group 248\n",
      "p-value:  [0.60042943]\n",
      "Failed to reject the null hypothesis, there is no reason to consider the shares different\n",
      "---------------------------------------------------------------\n",
      "user_id    0.112267\n",
      "Name: 247, dtype: float64 event Tutorial group 247\n",
      "user_id    0.109972\n",
      "Name: 248, dtype: float64 event Tutorial group 248\n",
      "p-value:  [0.76486247]\n",
      "Failed to reject the null hypothesis, there is no reason to consider the shares different\n",
      "---------------------------------------------------------------\n"
     ]
    }
   ],
   "source": [
    "# menguji kelompok 246+247 dan 248\n",
    "for event in users_event_per_group.index:\n",
    "    check_event_hypothesis(users_event_per_group_control, users_group_control,\n",
    "                          event, 247, 248)\n",
    "    print('---------------------------------------------------------------')"
   ]
  },
  {
   "cell_type": "markdown",
   "metadata": {},
   "source": [
    "**Hasil uji kelompok 246, 247 dan 248:**\n",
    "Tidak ada perbedaan yang signifikan antara ketiga kelompok ini.\n",
    "Berarti perubahan font lam dan font baru tidak berpengaruh pada jumlah transaksi yang dilakukan pengguna."
   ]
  },
  {
   "cell_type": "markdown",
   "metadata": {},
   "source": [
    "### Menguji Dengan Alpha Berbeda\n",
    "Sebelumnya, kita melakukan uji hipotesis dengan tingkat signifikansi 0.01, namun ini tingkat signifikansi ini mungkin saja memberikan hasil yang kurang tepat. Maka dari itu, kita akan mengulang uji hipotesis kita dengan menggunakan tingkat signifikansi yang berbeda, yaitu 0.05"
   ]
  },
  {
   "cell_type": "markdown",
   "metadata": {},
   "source": [
    "#### Melakukan A/A Testing = 246/247\n",
    "Uji pertama yang kita lakukan adalah A/A testing, yaitu tes kesetaraan populasi antara kelompok 246 dan 247. Kedua kelompok ini menggunakan aplikasi dengan font lama."
   ]
  },
  {
   "cell_type": "code",
   "execution_count": 48,
   "metadata": {},
   "outputs": [],
   "source": [
    "def check_hypothesis(successes1, successes2, trials1, trials2, alpha=0.05):\n",
    "    # proportion of successes in the first group:\n",
    "    p1 = successes1/trials1\n",
    "    \n",
    "    # proportion of successes in the second group:\n",
    "    p2 = successes2/trials2\n",
    "    \n",
    "    # proportion of successes in the combined dataset:\n",
    "    p_combined = (successes1 + successes2) / (trials1 + trials2)\n",
    "    \n",
    "    # difference in proportions in datasets\n",
    "    difference = p1 - p2\n",
    "    \n",
    "    # calculate statistics in standard deviations of the standard normal distribution\n",
    "    z_value = difference / math.sqrt(p_combined * (1 - p_combined) * (1/trials1 + 1/trials2))\n",
    "    \n",
    "    # set standard normal distribution (mean 0, standard deviation 1)\n",
    "    distr = stats.norm(0, 1)\n",
    "    \n",
    "    # calculate statistics in standard deviations of the standard normal distribution\n",
    "    z_value = difference / math.sqrt(p_combined * (1 - p_combined) * (1/trials1 + 1/trials2))\n",
    "    p_value = (1 - distr.cdf(abs(z_value))) * 2\n",
    "    \n",
    "    print('p-value: ', p_value)\n",
    "    if (p_value < alpha):\n",
    "        print(\"Reject the null hypothesis: there is a significant difference between the shares\")\n",
    "    else:\n",
    "        print(\"Failed to reject the null hypothesis, there is no reason to consider the shares different\")"
   ]
  },
  {
   "cell_type": "code",
   "execution_count": 49,
   "metadata": {},
   "outputs": [
    {
     "name": "stdout",
     "output_type": "stream",
     "text": [
      "p-value:  [0.75705972]\n",
      "Failed to reject the null hypothesis, there is no reason to consider the shares different\n"
     ]
    }
   ],
   "source": [
    "check_hypothesis(users_event_per_group.loc['Main Screen Appear', 246],\n",
    "                 users_event_per_group.loc['Main Screen Appear', 247],\n",
    "                 users_group.loc[246],\n",
    "                 users_group.loc[247])"
   ]
  },
  {
   "cell_type": "code",
   "execution_count": 50,
   "metadata": {},
   "outputs": [],
   "source": [
    "def check_event_hypothesis(users_events_per_group, users_group,\n",
    "                           event,\n",
    "                           exp1, exp2\n",
    "                          ):\n",
    "    frac1 = users_events_per_group.loc[event, exp1] / users_group.loc[exp1]\n",
    "    frac2 = users_events_per_group.loc[event, exp2] / users_group.loc[exp2]\n",
    "    print(f'{frac1} event {event} group {exp1}')\n",
    "    print(f'{frac2} event {event} group {exp2}')\n",
    "    check_hypothesis(users_events_per_group.loc[event, exp1],\n",
    "                     users_events_per_group.loc[event, exp2],\n",
    "                     users_group.loc[exp1],\n",
    "                     users_group.loc[exp2],\n",
    "                    )"
   ]
  },
  {
   "cell_type": "code",
   "execution_count": 51,
   "metadata": {},
   "outputs": [
    {
     "name": "stdout",
     "output_type": "stream",
     "text": [
      "user_id    0.986312\n",
      "Name: 246, dtype: float64 event Main Screen Appear group 246\n",
      "user_id    0.985277\n",
      "Name: 247, dtype: float64 event Main Screen Appear group 247\n",
      "p-value:  [0.75705972]\n",
      "Failed to reject the null hypothesis, there is no reason to consider the shares different\n",
      "---------------------------------------------------------------\n",
      "user_id    0.620773\n",
      "Name: 246, dtype: float64 event Offers Screen Appear group 246\n",
      "user_id    0.604855\n",
      "Name: 247, dtype: float64 event Offers Screen Appear group 247\n",
      "p-value:  [0.24809546]\n",
      "Failed to reject the null hypothesis, there is no reason to consider the shares different\n",
      "---------------------------------------------------------------\n",
      "user_id    0.509662\n",
      "Name: 246, dtype: float64 event Cart Screen Appear group 246\n",
      "user_id    0.492638\n",
      "Name: 247, dtype: float64 event Cart Screen Appear group 247\n",
      "p-value:  [0.22883372]\n",
      "Failed to reject the null hypothesis, there is no reason to consider the shares different\n",
      "---------------------------------------------------------------\n",
      "user_id    0.483092\n",
      "Name: 246, dtype: float64 event Payment Screen Successful group 246\n",
      "user_id    0.460804\n",
      "Name: 247, dtype: float64 event Payment Screen Successful group 247\n",
      "p-value:  [0.11456679]\n",
      "Failed to reject the null hypothesis, there is no reason to consider the shares different\n",
      "---------------------------------------------------------------\n",
      "user_id    0.111916\n",
      "Name: 246, dtype: float64 event Tutorial group 246\n",
      "user_id    0.112614\n",
      "Name: 247, dtype: float64 event Tutorial group 247\n",
      "p-value:  [0.93769962]\n",
      "Failed to reject the null hypothesis, there is no reason to consider the shares different\n",
      "---------------------------------------------------------------\n"
     ]
    }
   ],
   "source": [
    "for event in users_event_per_group.index:\n",
    "    check_event_hypothesis(users_event_per_group, users_group,\n",
    "                          event, 246, 247)\n",
    "    print('---------------------------------------------------------------')"
   ]
  },
  {
   "cell_type": "markdown",
   "metadata": {},
   "source": [
    "**Hasil uji kelompok 246 dan 247:**\n",
    "Tidak ada perbedaan signifikan diantara kedua kelompok.\n",
    "\n",
    "\n",
    "#### Melakukan A/B Testing = 246/248\n",
    "Berikutnya kita melakukan uji statistik antara kelompok 246 dan 248. Kelompok 246 menggunakan aplikasi dengan font lama dan kelompok 248 menggunakan aplikasi dengan font baru."
   ]
  },
  {
   "cell_type": "code",
   "execution_count": 52,
   "metadata": {},
   "outputs": [
    {
     "name": "stdout",
     "output_type": "stream",
     "text": [
      "user_id    0.986312\n",
      "Name: 246, dtype: float64 event Main Screen Appear group 246\n",
      "user_id    0.982657\n",
      "Name: 248, dtype: float64 event Main Screen Appear group 248\n",
      "p-value:  [0.29497219]\n",
      "Failed to reject the null hypothesis, there is no reason to consider the shares different\n",
      "---------------------------------------------------------------\n",
      "user_id    0.620773\n",
      "Name: 246, dtype: float64 event Offers Screen Appear group 246\n",
      "user_id    0.603469\n",
      "Name: 248, dtype: float64 event Offers Screen Appear group 248\n",
      "p-value:  [0.20836205]\n",
      "Failed to reject the null hypothesis, there is no reason to consider the shares different\n",
      "---------------------------------------------------------------\n",
      "user_id    0.509662\n",
      "Name: 246, dtype: float64 event Cart Screen Appear group 246\n",
      "user_id    0.484825\n",
      "Name: 248, dtype: float64 event Cart Screen Appear group 248\n",
      "p-value:  [0.07842923]\n",
      "Failed to reject the null hypothesis, there is no reason to consider the shares different\n",
      "---------------------------------------------------------------\n",
      "user_id    0.483092\n",
      "Name: 246, dtype: float64 event Payment Screen Successful group 246\n",
      "user_id    0.46551\n",
      "Name: 248, dtype: float64 event Payment Screen Successful group 248\n",
      "p-value:  [0.21225533]\n",
      "Failed to reject the null hypothesis, there is no reason to consider the shares different\n",
      "---------------------------------------------------------------\n",
      "user_id    0.111916\n",
      "Name: 246, dtype: float64 event Tutorial group 246\n",
      "user_id    0.109972\n",
      "Name: 248, dtype: float64 event Tutorial group 248\n",
      "p-value:  [0.8264294]\n",
      "Failed to reject the null hypothesis, there is no reason to consider the shares different\n",
      "---------------------------------------------------------------\n"
     ]
    }
   ],
   "source": [
    "# menguji kelompok 246 dan 248\n",
    "for event in users_event_per_group.index:\n",
    "    check_event_hypothesis(users_event_per_group, users_group,\n",
    "                          event, 246, 248)\n",
    "    print('---------------------------------------------------------------')"
   ]
  },
  {
   "cell_type": "markdown",
   "metadata": {},
   "source": [
    "**Hasil uji kelompok 246 dan 248:**\n",
    "Tidak ada perbedaan signifikan diantara kedua kelompok.\n",
    "\n",
    "#### Melakukan A/B Testing = 247/248\n",
    "Kelompok 247 menggunakan aplikasi dengan font lama dan kelompok 248 menggunakan aplikasi dengan font baru."
   ]
  },
  {
   "cell_type": "code",
   "execution_count": 53,
   "metadata": {},
   "outputs": [
    {
     "name": "stdout",
     "output_type": "stream",
     "text": [
      "user_id    0.985277\n",
      "Name: 247, dtype: float64 event Main Screen Appear group 247\n",
      "user_id    0.982657\n",
      "Name: 248, dtype: float64 event Main Screen Appear group 248\n",
      "p-value:  [0.45870536]\n",
      "Failed to reject the null hypothesis, there is no reason to consider the shares different\n",
      "---------------------------------------------------------------\n",
      "user_id    0.604855\n",
      "Name: 247, dtype: float64 event Offers Screen Appear group 247\n",
      "user_id    0.603469\n",
      "Name: 248, dtype: float64 event Offers Screen Appear group 248\n",
      "p-value:  [0.91978178]\n",
      "Failed to reject the null hypothesis, there is no reason to consider the shares different\n",
      "---------------------------------------------------------------\n",
      "user_id    0.492638\n",
      "Name: 247, dtype: float64 event Cart Screen Appear group 247\n",
      "user_id    0.484825\n",
      "Name: 248, dtype: float64 event Cart Screen Appear group 248\n",
      "p-value:  [0.57861979]\n",
      "Failed to reject the null hypothesis, there is no reason to consider the shares different\n",
      "---------------------------------------------------------------\n",
      "user_id    0.460804\n",
      "Name: 247, dtype: float64 event Payment Screen Successful group 247\n",
      "user_id    0.46551\n",
      "Name: 248, dtype: float64 event Payment Screen Successful group 248\n",
      "p-value:  [0.73734151]\n",
      "Failed to reject the null hypothesis, there is no reason to consider the shares different\n",
      "---------------------------------------------------------------\n",
      "user_id    0.112614\n",
      "Name: 247, dtype: float64 event Tutorial group 247\n",
      "user_id    0.109972\n",
      "Name: 248, dtype: float64 event Tutorial group 248\n",
      "p-value:  [0.76532392]\n",
      "Failed to reject the null hypothesis, there is no reason to consider the shares different\n",
      "---------------------------------------------------------------\n"
     ]
    }
   ],
   "source": [
    "# menguji kelompok 247 dan 248\n",
    "for event in users_event_per_group.index:\n",
    "    check_event_hypothesis(users_event_per_group, users_group,\n",
    "                          event, 247, 248)\n",
    "    print('---------------------------------------------------------------')"
   ]
  },
  {
   "cell_type": "markdown",
   "metadata": {},
   "source": [
    "**Hasil uji kelompok 247 dan 248:**\n",
    "Tidak ada perbedaan signifikan diantara kedua kelompok.\n",
    "\n",
    "\n",
    "#### Melakukan A/A/B Testing = 246/247/248\n",
    "Uji statistik kali ini, kita akan menggabungkan data kedua kelompok kontrol (246 & 247) dan baru kemudian mengujinya dengan kelompok 248."
   ]
  },
  {
   "cell_type": "code",
   "execution_count": 54,
   "metadata": {},
   "outputs": [
    {
     "name": "stdout",
     "output_type": "stream",
     "text": [
      "user_id    0.985791\n",
      "Name: 247, dtype: float64 event Main Screen Appear group 247\n",
      "user_id    0.982657\n",
      "Name: 248, dtype: float64 event Main Screen Appear group 248\n",
      "p-value:  [0.29424527]\n",
      "Failed to reject the null hypothesis, there is no reason to consider the shares different\n",
      "---------------------------------------------------------------\n",
      "user_id    0.612768\n",
      "Name: 247, dtype: float64 event Offers Screen Appear group 247\n",
      "user_id    0.603469\n",
      "Name: 248, dtype: float64 event Offers Screen Appear group 248\n",
      "p-value:  [0.4342555]\n",
      "Failed to reject the null hypothesis, there is no reason to consider the shares different\n",
      "---------------------------------------------------------------\n",
      "user_id    0.501101\n",
      "Name: 247, dtype: float64 event Cart Screen Appear group 247\n",
      "user_id    0.484825\n",
      "Name: 248, dtype: float64 event Cart Screen Appear group 248\n",
      "p-value:  [0.18175875]\n",
      "Failed to reject the null hypothesis, there is no reason to consider the shares different\n",
      "---------------------------------------------------------------\n",
      "user_id    0.471883\n",
      "Name: 247, dtype: float64 event Payment Screen Successful group 247\n",
      "user_id    0.46551\n",
      "Name: 248, dtype: float64 event Payment Screen Successful group 248\n",
      "p-value:  [0.60042943]\n",
      "Failed to reject the null hypothesis, there is no reason to consider the shares different\n",
      "---------------------------------------------------------------\n",
      "user_id    0.112267\n",
      "Name: 247, dtype: float64 event Tutorial group 247\n",
      "user_id    0.109972\n",
      "Name: 248, dtype: float64 event Tutorial group 248\n",
      "p-value:  [0.76486247]\n",
      "Failed to reject the null hypothesis, there is no reason to consider the shares different\n",
      "---------------------------------------------------------------\n"
     ]
    }
   ],
   "source": [
    "# menguji kelompok 246+247 dan 248\n",
    "for event in users_event_per_group.index:\n",
    "    check_event_hypothesis(users_event_per_group_control, users_group_control,\n",
    "                          event, 247, 248)\n",
    "    print('---------------------------------------------------------------')"
   ]
  },
  {
   "cell_type": "markdown",
   "metadata": {},
   "source": [
    "**Hasil uji kelompok 246, 247 dan 248:**\n",
    "Tidak ada perbedaan yang signifikan antara ketiga kelompok ini.\n",
    "Berarti perubahan font lam dan font baru tidak berpengaruh pada jumlah transaksi yang dilakukan pengguna."
   ]
  },
  {
   "cell_type": "markdown",
   "metadata": {},
   "source": [
    "## Kesimpulan\n",
    "Baik dengan tingkat alpha 0.01 maupun 0.05, kita memiliki hasil yang sama dari hipotesis ini:\n",
    "**PERUBAHAN FONT LAMA DAN FONT BARU TIDAK BERPENGARUH PADA TRANSAKSI YANG DILAKUKAN PENGGUNA**\n",
    "\n",
    "Ini berarti pihak web designer tidak perlu membuang waktu dan tenaga untuk membuat versi baru aplikasi dengan font baru, dan pihak manajer juga tidak perlu khawatir dengan pembaruan font yang dapat membuat pengguna kurang nyaman."
   ]
  }
 ],
 "metadata": {
  "kernelspec": {
   "display_name": "Python 3 (ipykernel)",
   "language": "python",
   "name": "python3"
  },
  "language_info": {
   "codemirror_mode": {
    "name": "ipython",
    "version": 3
   },
   "file_extension": ".py",
   "mimetype": "text/x-python",
   "name": "python",
   "nbconvert_exporter": "python",
   "pygments_lexer": "ipython3",
   "version": "3.9.5"
  },
  "toc": {
   "base_numbering": 1,
   "nav_menu": {},
   "number_sections": true,
   "sideBar": true,
   "skip_h1_title": true,
   "title_cell": "Table of Contents",
   "title_sidebar": "Contents",
   "toc_cell": false,
   "toc_position": {},
   "toc_section_display": true,
   "toc_window_display": true
  }
 },
 "nbformat": 4,
 "nbformat_minor": 2
}
